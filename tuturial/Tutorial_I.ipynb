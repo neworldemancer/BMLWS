{
  "nbformat": 4,
  "nbformat_minor": 0,
  "metadata": {
    "anaconda-cloud": {},
    "colab": {
      "name": "Tutorial_I.ipynb",
      "provenance": [],
      "collapsed_sections": []
    },
    "kernelspec": {
      "display_name": "Python 3",
      "language": "python",
      "name": "python3"
    },
    "language_info": {
      "codemirror_mode": {
        "name": "ipython",
        "version": 3
      },
      "file_extension": ".py",
      "mimetype": "text/x-python",
      "name": "python",
      "nbconvert_exporter": "python",
      "pygments_lexer": "ipython3",
      "version": "3.6.7"
    }
  },
  "cells": [
    {
      "cell_type": "markdown",
      "metadata": {
        "id": "NBLpVgZ0PR-7"
      },
      "source": [
        "# Tutorial I: Introduction to TensorFlow 1\n"
      ]
    },
    {
      "cell_type": "markdown",
      "metadata": {
        "id": "pD0SXx8rPR-9"
      },
      "source": [
        "<p>\n",
        "Bern Winter School on Machine Learning, 2021<br>\n",
        "Prepared by Mykhailo Vladymyrov.\n",
        "</p>\n",
        "\n",
        "This work is licensed under a <a href=\"http://creativecommons.org/licenses/by-nc-sa/4.0/\">Creative Commons Attribution-NonCommercial-ShareAlike 4.0 International License</a>."
      ]
    },
    {
      "cell_type": "markdown",
      "metadata": {
        "id": "V56Jh-5RPR--"
      },
      "source": [
        "The main feature of TF is the way we define operations.\n",
        "In regular programming we define a set of functions or methods on the objects.\n",
        "In TF we define a computational graph. Computational graph is a directed graph in which every node corresponds to an operation or variable. Variables can feed their value into operations, and operations can feed their output into other operations.\n",
        "Then, during execution we feed some data and/or parameters as input of the graph, and the graph produces the output.\n",
        "\n",
        "In this course we will start with TF1 interface, and gain understanding of the basics of 'learning' on the low level.\n",
        "\n",
        "Then, we will come to TF2, which provides a high-level interface. While it is easy to use, some fundamental conceps are easier to percieve and remember when working on the low level."
      ]
    },
    {
      "cell_type": "markdown",
      "metadata": {
        "id": "LDjO3RU9PR--"
      },
      "source": [
        "## 00. Requirements"
      ]
    },
    {
      "cell_type": "markdown",
      "metadata": {
        "id": "SMz8xcmjPR-_"
      },
      "source": [
        "To run this notebooks you need Tensorflow and numpy installed.\n",
        "As some parts of this tutorial rely on specific functions, it's strongly advised to use the Chrome browser or Chromium derivatives.\n",
        "\n",
        "Basic knowledge of Python can be acquired [here](https://docs.python.org/3/tutorial/) and of Numpy [here](https://docs.scipy.org/doc/numpy/user/quickstart.html)\n",
        "\n",
        "Full documentation on Tensorflow functions is available in the [reference](https://www.tensorflow.org/api_docs/python/). Sometimes [functions' implementation](https://github.com/tensorflow/tensorflow) might help to understand what is happening under the hood.\n"
      ]
    },
    {
      "cell_type": "markdown",
      "metadata": {
        "id": "BRh7fzJ0PR_A"
      },
      "source": [
        "## 0. Cell execution"
      ]
    },
    {
      "cell_type": "markdown",
      "metadata": {
        "id": "9xnxfsAoPR_A"
      },
      "source": [
        "Press ``Ctrl+Enter`` or ``Shift+Enter`` on the next cell to execute the content"
      ]
    },
    {
      "cell_type": "code",
      "metadata": {
        "id": "XRhpRwVGPR_B"
      },
      "source": [
        "print('It works')"
      ],
      "execution_count": null,
      "outputs": []
    },
    {
      "cell_type": "markdown",
      "metadata": {
        "id": "-5BkA6IoPR_D"
      },
      "source": [
        "Navigate between cells with arrows. Press `Enter` to edit cell, `Esc` to exit. Press `A` or `B` too create a new cell above or below. In Colab these correspond to `Ctrl+M A` and `Ctrl+M B`"
      ]
    },
    {
      "cell_type": "markdown",
      "metadata": {
        "id": "lh5a_0N3PR_G"
      },
      "source": [
        "## 1. Load necessary libraries"
      ]
    },
    {
      "cell_type": "code",
      "metadata": {
        "id": "6ioOWo6zQfZe"
      },
      "source": [
        "colab = True # set to True is using google colab"
      ],
      "execution_count": null,
      "outputs": []
    },
    {
      "cell_type": "code",
      "metadata": {
        "id": "gqUkkrFGPpVq"
      },
      "source": [
        "if colab:\n",
        "    %tensorflow_version 2.x"
      ],
      "execution_count": null,
      "outputs": []
    },
    {
      "cell_type": "code",
      "metadata": {
        "id": "quADyoPVPR_G"
      },
      "source": [
        "import sys\n",
        "\n",
        "import numpy as np\n",
        "import matplotlib.pyplot as plt\n",
        "import IPython.display as ipyd\n",
        "import tensorflow.compat.v1 as tf\n",
        "tf.disable_v2_behavior()\n",
        "\n",
        "# We'll tell matplotlib to inline any drawn figures like so:\n",
        "%matplotlib inline\n",
        "plt.style.use('ggplot')\n",
        "\n",
        "from IPython.core.display import HTML\n",
        "HTML(\"\"\"<style> .rendered_html code { \n",
        "    padding: 2px 5px;\n",
        "    color: #0000aa;\n",
        "    background-color: #cccccc;\n",
        "} </style>\"\"\")\n",
        "%load_ext tensorboard"
      ],
      "execution_count": null,
      "outputs": []
    },
    {
      "cell_type": "markdown",
      "metadata": {
        "id": "EqADCB3D9Rxo"
      },
      "source": [
        "### Download libraries"
      ]
    },
    {
      "cell_type": "code",
      "metadata": {
        "id": "yMxFBHhV9Rxq"
      },
      "source": [
        "if colab:\n",
        "    p = tf.keras.utils.get_file('./material.tgz', 'https://scits-training.unibe.ch/data/tut_files/tpub0320.tgz')\n",
        "    !mv {p} .\n",
        "    !tar -xvzf material.tgz > /dev/null 2>&1"
      ],
      "execution_count": null,
      "outputs": []
    },
    {
      "cell_type": "code",
      "metadata": {
        "id": "cInCJilaOC5A"
      },
      "source": [
        "from utils import gr_disp"
      ],
      "execution_count": null,
      "outputs": []
    },
    {
      "cell_type": "code",
      "metadata": {
        "id": "VXayDj3FQfZt"
      },
      "source": [
        "def show_graph(g=None, gd=None):\n",
        "    gr_disp.show_graph(g, gd)\n",
        "    %tensorboard --logdir logs"
      ],
      "execution_count": null,
      "outputs": []
    },
    {
      "cell_type": "markdown",
      "metadata": {
        "id": "6nYU1iu0PR_I"
      },
      "source": [
        "## 2. Create our first graph"
      ]
    },
    {
      "cell_type": "markdown",
      "metadata": {
        "id": "4Y2sfGvrPR_I"
      },
      "source": [
        "First we need to define the input for the graph. The easiest way is to define so called ``placeholder``, where during the excecution we will feed in the input values."
      ]
    },
    {
      "cell_type": "code",
      "metadata": {
        "id": "VK_OYmyQPR_J"
      },
      "source": [
        "tf.reset_default_graph()\n",
        "input = tf.placeholder(name = 'input', shape=(), dtype=tf.float32 )"
      ],
      "execution_count": null,
      "outputs": []
    },
    {
      "cell_type": "markdown",
      "metadata": {
        "id": "66TlvmFoPR_L"
      },
      "source": [
        "Then we will define two simple operations. In most cases simple Python notation gives the desired result."
      ]
    },
    {
      "cell_type": "code",
      "metadata": {
        "id": "GsfGjdP2PR_L"
      },
      "source": [
        "out1 = input + 5"
      ],
      "execution_count": null,
      "outputs": []
    },
    {
      "cell_type": "code",
      "metadata": {
        "id": "NvbNqR-EPR_N"
      },
      "source": [
        "out2 = input * out1"
      ],
      "execution_count": null,
      "outputs": []
    },
    {
      "cell_type": "markdown",
      "metadata": {
        "id": "xIxjV7UYSmG-"
      },
      "source": [
        "This is the computational graph:"
      ]
    },
    {
      "cell_type": "code",
      "metadata": {
        "id": "JNAVVBf3Olyc"
      },
      "source": [
        "show_graph(g=tf.get_default_graph())"
      ],
      "execution_count": null,
      "outputs": []
    },
    {
      "cell_type": "markdown",
      "metadata": {
        "id": "Dd4GGxrUTRf4"
      },
      "source": [
        "Here nodes represent tensors and operations, while the directed egdes - data flow between the nodes."
      ]
    },
    {
      "cell_type": "markdown",
      "metadata": {
        "id": "UX1iPTIbPR_Q"
      },
      "source": [
        "## 3. Run the graph"
      ]
    },
    {
      "cell_type": "code",
      "metadata": {
        "id": "vWLt7x3lPR_R"
      },
      "source": [
        "sess = tf.Session()"
      ],
      "execution_count": null,
      "outputs": []
    },
    {
      "cell_type": "markdown",
      "metadata": {
        "id": "V9zqjUYrPR_S"
      },
      "source": [
        "Session is used to compute the desired outputs, for example our defined ``out1``. "
      ]
    },
    {
      "cell_type": "code",
      "metadata": {
        "id": "MRKctH1IPR_T"
      },
      "source": [
        "#res1 = sess.run(out1)"
      ],
      "execution_count": null,
      "outputs": []
    },
    {
      "cell_type": "markdown",
      "metadata": {
        "id": "f-ckp1V0PR_U"
      },
      "source": [
        "If you will uncomment and run the above cell, you will get an error, indicating that the value for the ``input`` should be given. Here we will use feed dictionary, where we specify input as"
      ]
    },
    {
      "cell_type": "code",
      "metadata": {
        "id": "AiYdynxRPR_V"
      },
      "source": [
        "res1 = sess.run(out1, feed_dict={input: 1})\n",
        "print(res1)\n",
        "#out1 = input+5 = 1+5 = 6\n",
        "\n"
      ],
      "execution_count": null,
      "outputs": []
    },
    {
      "cell_type": "markdown",
      "metadata": {
        "id": "fMUKiw8HPR_W"
      },
      "source": [
        "several values can be computed at the same time:"
      ]
    },
    {
      "cell_type": "code",
      "metadata": {
        "id": "_ZLbf3lvPR_X"
      },
      "source": [
        "res1, res2 = sess.run((out1, out2), feed_dict={input: 3})\n",
        "print(res1, res2)\n",
        "#out1 = input+5 = 3+5 = 8\n",
        "#out1 = (input+5)*input = (3+5)*3 = 8*3=24"
      ],
      "execution_count": null,
      "outputs": []
    },
    {
      "cell_type": "markdown",
      "metadata": {
        "id": "hnAv9CW1PR_Y"
      },
      "source": [
        "<span style=\"color:red\">*It is important to remember that in principle its better NOT TO USE ``feed_dict``: it is rather slow. \n",
        "There are several proper built-in mechanisms, that allow smooth data reading, in particular from disc (which is generally super slow!).*</span>\n",
        "\n",
        "While for now we will keep using ``feed_dict``, since it's more visual, and helps to better understand what is going on, you are highly encouradged to read and follow the official [guidelines](https://www.tensorflow.org/programmers_guide/datasets) related to the data streaming and handling.\n",
        "\n",
        "We will cover some of those in the last session."
      ]
    },
    {
      "cell_type": "markdown",
      "metadata": {
        "id": "7eB2znQCPR_Z"
      },
      "source": [
        "## 4. Tensor operations"
      ]
    },
    {
      "cell_type": "markdown",
      "metadata": {
        "id": "TLY2DDJFPR_Z"
      },
      "source": [
        "For ML tasks we often need to perform operations on high-dimensional data. Theese are represented as tensors in TF. For example we can calculate sum of squared values in an 1D array with 5 elements:"
      ]
    },
    {
      "cell_type": "code",
      "metadata": {
        "id": "boJP3IcWPR_a"
      },
      "source": [
        "tf.reset_default_graph()\n",
        "input_arr = tf.placeholder(name='input_arr', dtype=tf.float32, shape=(5,))\n",
        "squared = input_arr ** 2  # elementwise operation\n",
        "out_sum = tf.reduce_sum(squared)"
      ],
      "execution_count": null,
      "outputs": []
    },
    {
      "cell_type": "code",
      "metadata": {
        "id": "zZ8oSkcnPR_c",
        "scrolled": false
      },
      "source": [
        "np_arr = np.asarray((1,2,3,4,5), dtype=np.float32)\n",
        "with tf.Session() as sess:\n",
        "    print(sess.run(out_sum, feed_dict={input_arr: np_arr}))\n",
        "# squared = (1,4,9,16,25)\n",
        "# out_sum = 55"
      ],
      "execution_count": null,
      "outputs": []
    },
    {
      "cell_type": "markdown",
      "metadata": {
        "id": "yZIbWxYZPR_d"
      },
      "source": [
        "Or we can do the same for several 1D arrays at once:"
      ]
    },
    {
      "cell_type": "code",
      "metadata": {
        "id": "SVuyQ7onPR_e"
      },
      "source": [
        "tf.reset_default_graph()\n",
        "input_arr = tf.placeholder(name='input_arr', dtype=tf.float32, shape=(None, 5)) #None stands for unknows length of the array\n",
        "squared = tf.multiply(input_arr, input_arr)\n",
        "out_sum = tf.reduce_sum(squared, axis=1) # sum only along 1st axis\n",
        "\n",
        "#Sample arrays of different size along first axis. \n",
        "#They all can be fed into the input_arr placeholder since along first axis size is unconstrained\n",
        "np_arr1 = np.asarray([[1,2,3,4,5]], dtype=np.float32)\n",
        "np_arr2 = np.asarray([[1,2,3,4,5], [2,3,4,5,6]], dtype=np.float32)\n",
        "np_arr3 = np.asarray([[1,2,3,4,5], [2,3,4,5,6], [25,65,12,12,11], [1,2,3,4,5], [2,3,4,5,6], [25,65,12,12,11]], dtype=np.float32)\n",
        "with tf.Session() as sess:\n",
        "    print(sess.run(out_sum, feed_dict={input_arr: np_arr1}))\n",
        "    print(sess.run(out_sum, feed_dict={input_arr: np_arr2}))\n",
        "    print(sess.run(out_sum, feed_dict={input_arr: np_arr3}))\n",
        "    \n",
        "show_graph(g=tf.get_default_graph())"
      ],
      "execution_count": null,
      "outputs": []
    },
    {
      "cell_type": "markdown",
      "metadata": {
        "id": "yVgzUcxSPR_g"
      },
      "source": [
        "## 5. Excercise 1"
      ]
    },
    {
      "cell_type": "markdown",
      "metadata": {
        "id": "qlEAMfXYPR_g"
      },
      "source": [
        "Hint: You can use question mark to get description of function right from Jupyter notebook:"
      ]
    },
    {
      "cell_type": "code",
      "metadata": {
        "code_folding": [],
        "id": "VBrRrgILPR_i"
      },
      "source": [
        "tf.reduce_sum?"
      ],
      "execution_count": null,
      "outputs": []
    },
    {
      "cell_type": "markdown",
      "metadata": {
        "id": "FABKnK1APR_k"
      },
      "source": [
        "or ``Shift+Tab`` within the brackets to see function parameters (just ``Space`` for google colab):"
      ]
    },
    {
      "cell_type": "code",
      "metadata": {
        "id": "0RtSqZFTPR_l"
      },
      "source": [
        "tf.reduce_sum()"
      ],
      "execution_count": null,
      "outputs": []
    },
    {
      "cell_type": "markdown",
      "metadata": {
        "id": "odN9jANSPR_m"
      },
      "source": [
        "Modify the code bellow to calculate mean of array's elements."
      ]
    },
    {
      "cell_type": "code",
      "metadata": {
        "id": "ENYoskWXPR_m"
      },
      "source": [
        "... #1. reset the graph\n",
        "input_arr = tf.placeholder(name='input_arr', shape=(None, None), dtype=tf.float32) #None stands for unknows length of the array\n",
        "out_mean = ... # 2.use reduce_mean to claculate mean along specified axes\n",
        "\n",
        "np_arr = np.asarray([[1,2,3,4,5], [2,3,4,5,6], [25,65,12,12,11]], dtype=np.float32)\n",
        "with tf.Session() as sess:\n",
        "    res = ... # 3. calculate the out_mean\n",
        "    print(res)\n",
        "    \n",
        "... #4. display the graph"
      ],
      "execution_count": null,
      "outputs": []
    },
    {
      "cell_type": "markdown",
      "metadata": {
        "id": "GbnkrLAHPR_o"
      },
      "source": [
        "## 6. Optimization problem"
      ]
    },
    {
      "cell_type": "markdown",
      "metadata": {
        "id": "A6VTHzpHPR_p"
      },
      "source": [
        "In ML we always try to optimize model parameters to minimize a loss function. TF provides easy interface for solving optimization problems.\n",
        "\n",
        "Let's see how this works. We will use a function $f$, parabolic with respect to the model parameter $t$: $f(x_1, x_2|t) = (x_1*t-x_2)^2$. Here $x_1$ and $x_2$ are given values for which we will try to minimize value of function $f$.\n",
        "\n",
        "We define `t` as a variable using `get_variable` and initialize it with a constant 0. Variables are by default trainable, *i.e.* their value will be changed during training. "
      ]
    },
    {
      "cell_type": "code",
      "metadata": {
        "id": "D-EukogmPR_p"
      },
      "source": [
        "tf.reset_default_graph()\n",
        "\n",
        "t = tf.get_variable(name='t', dtype=tf.float32, shape=(), initializer=tf.constant_initializer(0))\n",
        "x1 = tf.placeholder(name='x1', dtype=tf.float32, shape=())\n",
        "x2 = tf.placeholder(name='x2', dtype=tf.float32, shape=())"
      ],
      "execution_count": null,
      "outputs": []
    },
    {
      "cell_type": "code",
      "metadata": {
        "id": "-JnqwUkRPR_r"
      },
      "source": [
        "#function to be minimized\n",
        "f = (t*x1-x2) ** 2"
      ],
      "execution_count": null,
      "outputs": []
    },
    {
      "cell_type": "markdown",
      "metadata": {
        "id": "bARGtxfBPR_s"
      },
      "source": [
        "Next we create and optimizer: object that on each iteration adjusts values of all trainable parameters (in our case just `t` to minimize the value of `f`. As the name sugests it uses steepest gradient descent."
      ]
    },
    {
      "cell_type": "code",
      "metadata": {
        "id": "szG1VcYoPR_s"
      },
      "source": [
        "optimizer = tf.train.GradientDescentOptimizer(learning_rate=0.01).minimize(f)"
      ],
      "execution_count": null,
      "outputs": []
    },
    {
      "cell_type": "code",
      "metadata": {
        "id": "s238H1yOPR_u"
      },
      "source": [
        "#values of x1, x2 for which we will minimize f\n",
        "x1_val = 3.\n",
        "x2_val = 9.\n",
        "\n",
        "#buffers to store intermidiate values of t and f to plot them later.\n",
        "t_sv = []\n",
        "f_sv = []\n",
        "\n",
        "with tf.Session() as sess:\n",
        "    #don't forget to initialize all variables! \n",
        "    sess.run(tf.global_variables_initializer())\n",
        "    f_val, t_val = sess.run([f, t], feed_dict={x1:x1_val, x2:x2_val})\n",
        "        \n",
        "    t_sv.append(t_val)\n",
        "    f_sv.append(f_val)\n",
        "        \n",
        "    #optimization works iteratively, adjusting the value of t on each step\n",
        "    for itr in range (30):\n",
        "        sess.run(optimizer, feed_dict={x1:x1_val, x2:x2_val})\n",
        "        f_val, t_val = sess.run([f, t], feed_dict={x1:x1_val, x2:x2_val})\n",
        "        #save the current values of t and the function f\n",
        "        t_sv.append(t_val)\n",
        "        f_sv.append(f_val)\n",
        "        \n",
        "\n",
        "\n",
        "#just find the nice range for plotting\n",
        "x0 = x2_val/x1_val\n",
        "xhalf = max(abs(t_sv[0]-x0), 5.)\n",
        "#fill array for parabola\n",
        "t_all = np.arange(x0-xhalf, x0+xhalf, xhalf/50.)\n",
        "f_all = np.asarray([(ti*x1_val-x2_val)*(ti*x1_val-x2_val) for ti in t_all])\n",
        "\n",
        "#draw all\n",
        "_, axs = plt.subplots(1, 2, figsize=(10,10))\n",
        "axs[0].plot(t_all, f_all, 'b', t_sv, f_sv, 'g^')\n",
        "axs[0].set_title('f(t | x1,x2)')\n",
        "axs[0].legend(('f(t)', 'training iterations'),  loc='upper center')\n",
        "axs[1].plot(f_sv)\n",
        "axs[1].set_title('f(itr)')\n"
      ],
      "execution_count": null,
      "outputs": []
    },
    {
      "cell_type": "markdown",
      "metadata": {
        "id": "jBd26x1bPR_v"
      },
      "source": [
        "## 7. Excercise 2"
      ]
    },
    {
      "cell_type": "markdown",
      "metadata": {
        "id": "jUWLA6PqPR_y"
      },
      "source": [
        "Try to modify ``x1_val`` and ``x2_val`` in the above code, as well as the ``learning_rate`` and ``t`` initialization value, and see how it affects convergence. Get an intuition on simple example, it is very useful!\n",
        "\n",
        "Try to see when \n",
        "1. convergence is too slow \n",
        "2. oscillation near minimum occurs\n",
        "3. divergence\n"
      ]
    }
  ]
}