{
 "nbformat": 4,
 "nbformat_minor": 0,
 "metadata": {
  "colab": {
   "name": "Tutorial_IV_homework_solution_tf2",
   "provenance": [],
   "collapsed_sections": []
  },
  "kernelspec": {
   "name": "python3",
   "language": "python",
   "display_name": "Python 3 (ipykernel)"
  },
  "language_info": {
   "name": "python"
  },
  "accelerator": "GPU"
 },
 "cells": [
  {
   "cell_type": "markdown",
   "source": [
    "# Libs"
   ],
   "metadata": {
    "id": "lTCePWDb8G2x"
   }
  },
  {
   "cell_type": "code",
   "execution_count": 2,
   "metadata": {
    "id": "Nznbe6Gv5WfN",
    "ExecuteTime": {
     "end_time": "2024-02-22T16:27:47.758083400Z",
     "start_time": "2024-02-22T16:27:36.907068500Z"
    }
   },
   "outputs": [
    {
     "name": "stderr",
     "output_type": "stream",
     "text": [
      "D:\\development\\Anaconda\\envs\\napari_cp2\\lib\\site-packages\\torchvision\\io\\image.py:13: UserWarning: Failed to load image Python extension: '[WinError 127] The specified procedure could not be found'If you don't plan on using image functionality from `torchvision.io`, you can ignore this warning. Otherwise, there might be something wrong with your environment. Did you have `libjpeg` or `libpng` installed before building `torchvision` from source?\n",
      "  warn(\n"
     ]
    }
   ],
   "source": [
    "import os\n",
    "os.environ[\"KMP_DUPLICATE_LIB_OK\"]=\"TRUE\" \n",
    "\n",
    "import sys\n",
    "import tarfile\n",
    "import requests\n",
    "\n",
    "import random\n",
    "import numpy as np\n",
    "import matplotlib.pyplot as plt\n",
    "\n",
    "import torch\n",
    "import torch.nn as nn\n",
    "import torch.nn.functional as F\n",
    "import torch.optim as optim\n",
    "from torchvision import datasets, transforms\n",
    "import torch.utils.data\n",
    "from torch.utils.data import TensorDataset, DataLoader"
   ]
  },
  {
   "cell_type": "markdown",
   "source": [
    "# Data"
   ],
   "metadata": {
    "id": "zr04U6ep8KCl"
   }
  },
  {
   "cell_type": "code",
   "execution_count": 3,
   "outputs": [],
   "source": [
    "device = torch.device(\"cuda:0\" if torch.cuda.is_available() else \"cpu\")"
   ],
   "metadata": {
    "collapsed": false,
    "ExecuteTime": {
     "end_time": "2024-02-22T16:27:47.798188900Z",
     "start_time": "2024-02-22T16:27:47.763161300Z"
    }
   }
  },
  {
   "cell_type": "code",
   "source": [
    "# Define a transform to normalize the data\n",
    "transform = transforms.Compose([transforms.ToTensor(),\n",
    "                                transforms.Normalize((0.5,), (0.5,)),\n",
    "                                # move to device\n",
    "                                transforms.Lambda(lambda x: x.to(device))\n",
    "                                ])\n",
    "# long type for labels\n",
    "target_transform = transforms.Lambda(lambda x: torch.tensor(x, dtype=torch.long).to(device))\n",
    "\n",
    "# Download and load the training data\n",
    "trainset = datasets.MNIST('~/.pytorch/MNIST_data/', download=True, train=True,\n",
    "                          transform=transform, target_transform=target_transform)\n",
    "trainloader = DataLoader(trainset, batch_size=64, shuffle=True)\n",
    "\n",
    "# Download and load the test data\n",
    "testset = datasets.MNIST('~/.pytorch/MNIST_data/', download=True, train=False,\n",
    "                         transform=transform, target_transform=target_transform)\n",
    "testloader = DataLoader(testset, batch_size=64, shuffle=True)\n",
    "\n",
    "# Print shapes of the datasets\n",
    "print('Train dataset shape:', len(trainset), 'total images and labels')\n",
    "print('Test dataset shape:', len(testset), 'total images and labels')"
   ],
   "metadata": {
    "colab": {
     "base_uri": "https://localhost:8080/"
    },
    "id": "5C2Ppird6gcr",
    "outputId": "0efe6962-19d8-436e-f66c-74e0ca78db92",
    "ExecuteTime": {
     "end_time": "2024-02-22T16:29:41.830457600Z",
     "start_time": "2024-02-22T16:29:41.646746900Z"
    }
   },
   "execution_count": 4,
   "outputs": [
    {
     "name": "stdout",
     "output_type": "stream",
     "text": [
      "Train dataset shape: 60000 total images and labels\n",
      "Test dataset shape: 10000 total images and labels\n"
     ]
    }
   ]
  },
  {
   "cell_type": "code",
   "source": [
    "for el in trainset:\n",
    "    x, y = el\n",
    "    print(x.shape, y)\n",
    "    break\n",
    "for el in trainloader:\n",
    "    x, y = el\n",
    "    print(x.shape, y.shape)\n",
    "    break"
   ],
   "metadata": {
    "id": "JLsPDN9l6nYD",
    "ExecuteTime": {
     "end_time": "2024-02-22T16:29:43.447977400Z",
     "start_time": "2024-02-22T16:29:43.176569400Z"
    }
   },
   "execution_count": 5,
   "outputs": [
    {
     "name": "stdout",
     "output_type": "stream",
     "text": [
      "torch.Size([1, 28, 28]) tensor(5)\n",
      "torch.Size([64, 1, 28, 28]) torch.Size([64])\n"
     ]
    }
   ]
  },
  {
   "cell_type": "code",
   "execution_count": 6,
   "outputs": [
    {
     "data": {
      "text/plain": "<Figure size 640x480 with 1 Axes>",
      "image/png": "[encoded data removed]"
     },
     "metadata": {},
     "output_type": "display_data"
    }
   ],
   "source": [
    "plt.hist(x.cpu().numpy().flatten());"
   ],
   "metadata": {
    "collapsed": false,
    "ExecuteTime": {
     "end_time": "2024-02-22T16:29:52.508275300Z",
     "start_time": "2024-02-22T16:29:50.964116900Z"
    }
   }
  },
  {
   "cell_type": "markdown",
   "source": [
    "# Simple CNN"
   ],
   "metadata": {
    "id": "DM5JEhNC8NUa"
   }
  },
  {
   "cell_type": "code",
   "execution_count": 22,
   "outputs": [],
   "source": [
    "class Model(nn.Module):\n",
    "    def __init__(self):\n",
    "        super(Model, self).__init__()\n",
    "        self.conv1 = nn.Conv2d(1, 16, 3)\n",
    "        self.conv2 = nn.Conv2d(16, 32, 3, stride=2)\n",
    "        self.conv3 = nn.Conv2d(32, 64, 3, stride=2)\n",
    "        self.fc1 = nn.Linear(64*5*5, 32)\n",
    "        self.fc2 = nn.Linear(32, 10)\n",
    "\n",
    "    def forward(self, x):\n",
    "        x = F.relu(self.conv1(x))  # 26x26\n",
    "        # print(x.shape)\n",
    "        x = F.relu(self.conv2(x))  # 12x12\n",
    "        # print(x.shape)\n",
    "        x = F.relu(self.conv3(x))  # 5x5\n",
    "        # print(x.shape)\n",
    "        x = x.view(-1, 64*5*5)  # flatten 32x7x7 -> 32*7*7\n",
    "        # print(x.shape)\n",
    "        x = F.relu(self.fc1(x))\n",
    "        # print(x.shape)\n",
    "        logits = self.fc2(x)  # no activation, we will use cross-entropy loss with logits\n",
    "        # print(logits.shape)\n",
    "        \n",
    "        probs = F.softmax(logits, dim=1)\n",
    "\n",
    "        # Prediction: argmax for classification\n",
    "        pred = torch.argmax(probs, dim=1)\n",
    "\n",
    "        return logits, probs, pred\n",
    "\n",
    "model = Model().to(device)"
   ],
   "metadata": {
    "collapsed": false,
    "ExecuteTime": {
     "end_time": "2024-02-22T16:45:13.461955900Z",
     "start_time": "2024-02-22T16:45:13.211936600Z"
    }
   }
  },
  {
   "cell_type": "code",
   "execution_count": 23,
   "outputs": [
    {
     "data": {
      "text/plain": "[torch.Size([64, 10]), torch.Size([64, 10]), torch.Size([64])]"
     },
     "execution_count": 23,
     "metadata": {},
     "output_type": "execute_result"
    }
   ],
   "source": [
    "res = model(x)\n",
    "[r.shape for r in res]"
   ],
   "metadata": {
    "collapsed": false,
    "ExecuteTime": {
     "end_time": "2024-02-22T16:45:23.016628400Z",
     "start_time": "2024-02-22T16:45:22.887110Z"
    }
   }
  },
  {
   "cell_type": "code",
   "execution_count": 41,
   "outputs": [],
   "source": [
    "# Loss function\n",
    "criterion = nn.CrossEntropyLoss()\n",
    "\n",
    "# Optimizer (e.g., Adam)\n",
    "optimizer = optim.Adam(model.parameters(), lr=0.001)"
   ],
   "metadata": {
    "collapsed": false,
    "ExecuteTime": {
     "end_time": "2024-02-22T17:07:16.287877600Z",
     "start_time": "2024-02-22T17:07:16.116281500Z"
    }
   }
  },
  {
   "cell_type": "code",
   "execution_count": 19,
   "outputs": [],
   "source": [
    "def get_npars(model):\n",
    "  return np.sum([np.prod(list(p.shape)) for p in model.parameters()])"
   ],
   "metadata": {
    "collapsed": false,
    "ExecuteTime": {
     "end_time": "2024-02-22T16:42:45.494621Z",
     "start_time": "2024-02-22T16:42:45.340516900Z"
    }
   }
  },
  {
   "cell_type": "code",
   "execution_count": 20,
   "outputs": [
    {
     "data": {
      "text/plain": "74858"
     },
     "execution_count": 20,
     "metadata": {},
     "output_type": "execute_result"
    }
   ],
   "source": [
    "get_npars(model)"
   ],
   "metadata": {
    "collapsed": false,
    "ExecuteTime": {
     "end_time": "2024-02-22T16:42:48.597637400Z",
     "start_time": "2024-02-22T16:42:48.410261900Z"
    }
   }
  },
  {
   "cell_type": "code",
   "execution_count": 31,
   "outputs": [],
   "source": [
    "def get_predictions(model, loader):\n",
    "    model.eval()\n",
    "    predictions = []\n",
    "    labels = []\n",
    "    images_list = []\n",
    "    with torch.no_grad():\n",
    "        for images, label in loader:\n",
    "            output, _, _ = model(images)\n",
    "            pred = output.argmax(dim=1)\n",
    "            predictions.extend(pred.tolist())\n",
    "            labels.extend(label.tolist())\n",
    "            images_list.extend(images)\n",
    "    return predictions, labels, images_list\n",
    "\n",
    "def calculate_accuracy(predictions, labels):\n",
    "    correct = sum(pred == label for pred, label in zip(predictions, labels))\n",
    "    total = len(labels)\n",
    "    accuracy = correct / total\n",
    "    return accuracy"
   ],
   "metadata": {
    "collapsed": false,
    "ExecuteTime": {
     "end_time": "2024-02-22T17:00:53.477718400Z",
     "start_time": "2024-02-22T17:00:53.425726800Z"
    }
   }
  },
  {
   "cell_type": "code",
   "execution_count": 38,
   "outputs": [],
   "source": [
    "def train(model, trainloader, criterion, optimizer):\n",
    "    model.train()\n",
    "    running_loss = 0.0\n",
    "    n_correct = 0\n",
    "    n_total = 0\n",
    "    for images, labels in trainloader:\n",
    "        optimizer.zero_grad()  # reset gradients\n",
    "        output, _, pred = model(images)\n",
    "        loss = criterion(output, labels)\n",
    "        loss.backward()    # compute gradients\n",
    "        optimizer.step()   # update parameters with gradients\n",
    "        running_loss += loss.item()\n",
    "        \n",
    "        correct = torch.sum(pred == labels)\n",
    "        n_correct += correct.item()\n",
    "        n_total += len(labels)\n",
    "    acc = n_correct / n_total\n",
    "        \n",
    "    return running_loss / len(trainloader), acc"
   ],
   "metadata": {
    "collapsed": false,
    "ExecuteTime": {
     "end_time": "2024-02-22T17:07:05.029916400Z",
     "start_time": "2024-02-22T17:07:04.844369600Z"
    }
   }
  },
  {
   "cell_type": "markdown",
   "source": [
    "Defining a testing function:"
   ],
   "metadata": {
    "collapsed": false
   }
  },
  {
   "cell_type": "code",
   "execution_count": 39,
   "outputs": [],
   "source": [
    "def test(model, testloader, criterion):\n",
    "    model.eval()\n",
    "    running_loss = 0.0\n",
    "    n_correct = 0\n",
    "    n_total = 0\n",
    "    with torch.no_grad():\n",
    "        for images, labels in testloader:\n",
    "            output, prob, pred = model(images)\n",
    "            loss = criterion(output, labels)\n",
    "            running_loss += loss.item()\n",
    "            correct = torch.sum(pred == labels)\n",
    "            n_correct += correct.item()\n",
    "            n_total += len(labels)\n",
    "    acc = n_correct / n_total\n",
    "    \n",
    "    return running_loss / len(testloader), acc"
   ],
   "metadata": {
    "collapsed": false,
    "ExecuteTime": {
     "end_time": "2024-02-22T17:07:06.440286200Z",
     "start_time": "2024-02-22T17:07:06.333584900Z"
    }
   }
  },
  {
   "cell_type": "code",
   "execution_count": 40,
   "outputs": [
    {
     "data": {
      "text/plain": "64"
     },
     "execution_count": 40,
     "metadata": {},
     "output_type": "execute_result"
    }
   ],
   "source": [
    "testloader.batch_size"
   ],
   "metadata": {
    "collapsed": false,
    "ExecuteTime": {
     "end_time": "2024-02-22T17:07:07.646903200Z",
     "start_time": "2024-02-22T17:07:07.480870100Z"
    }
   }
  },
  {
   "cell_type": "markdown",
   "source": [
    "Training the model"
   ],
   "metadata": {
    "collapsed": false
   }
  },
  {
   "cell_type": "code",
   "execution_count": 42,
   "outputs": [
    {
     "name": "stdout",
     "output_type": "stream",
     "text": [
      "Epoch 1/10, Train Loss: 0.2213, Test Loss: 0.0712, Train Acc: 0.9305, Test Acc: 0.9785\n",
      "Epoch 2/10, Train Loss: 0.0711, Test Loss: 0.0527, Train Acc: 0.9787, Test Acc: 0.9837\n",
      "Epoch 3/10, Train Loss: 0.0496, Test Loss: 0.0492, Train Acc: 0.9852, Test Acc: 0.9841\n",
      "Epoch 4/10, Train Loss: 0.0365, Test Loss: 0.0418, Train Acc: 0.9889, Test Acc: 0.9862\n",
      "Epoch 5/10, Train Loss: 0.0300, Test Loss: 0.0432, Train Acc: 0.9905, Test Acc: 0.9854\n",
      "Epoch 6/10, Train Loss: 0.0229, Test Loss: 0.0461, Train Acc: 0.9927, Test Acc: 0.9864\n",
      "Epoch 7/10, Train Loss: 0.0208, Test Loss: 0.0460, Train Acc: 0.9930, Test Acc: 0.9873\n",
      "Epoch 8/10, Train Loss: 0.0163, Test Loss: 0.0404, Train Acc: 0.9947, Test Acc: 0.9882\n",
      "Epoch 9/10, Train Loss: 0.0139, Test Loss: 0.0498, Train Acc: 0.9952, Test Acc: 0.9864\n",
      "Epoch 10/10, Train Loss: 0.0116, Test Loss: 0.0492, Train Acc: 0.9961, Test Acc: 0.9875\n"
     ]
    }
   ],
   "source": [
    "num_epochs = 10\n",
    "train_losses = []\n",
    "test_losses = []\n",
    "train_accs = []\n",
    "test_accs = []\n",
    "for epoch in range(num_epochs):\n",
    "    train_loss, train_acc = train(model, trainloader, criterion, optimizer)\n",
    "    test_loss, test_acc = test(model, testloader, criterion)\n",
    "\n",
    "    train_losses.append(train_loss)\n",
    "    test_losses.append(test_loss)\n",
    "    train_accs.append(train_acc)\n",
    "    test_accs.append(test_acc)\n",
    "\n",
    "    print(f'Epoch {epoch+1}/{num_epochs}, Train Loss: {train_loss:.4f}, Test Loss: {test_loss:.4f}, Train Acc: {train_acc:.4f}, Test Acc: {test_acc:.4f}')"
   ],
   "metadata": {
    "collapsed": false,
    "ExecuteTime": {
     "end_time": "2024-02-22T17:18:22.383957500Z",
     "start_time": "2024-02-22T17:07:20.829039700Z"
    }
   }
  },
  {
   "cell_type": "markdown",
   "source": [
    "Visualize the loss curves"
   ],
   "metadata": {
    "collapsed": false
   }
  },
  {
   "cell_type": "code",
   "execution_count": 46,
   "outputs": [
    {
     "data": {
      "text/plain": "<Figure size 1000x500 with 2 Axes>",
      "image/png": "[encoded data removed]"
     },
     "metadata": {},
     "output_type": "display_data"
    }
   ],
   "source": [
    "# Plotting\n",
    "fig, ax = plt.subplots(nrows=1, ncols=2, figsize=(10, 5)) \n",
    "ax[0].plot(range(num_epochs), train_losses, label='Training Loss')\n",
    "ax[0].plot(range(num_epochs), test_losses, label='Test Loss')\n",
    "ax[0].set(xlabel='Epoch', ylabel='Loss', title='Loss')\n",
    "ax[0].legend(loc='upper right')\n",
    "\n",
    "ax[1].plot(range(num_epochs), train_accs, label='Training Accuracy')\n",
    "ax[1].plot(range(num_epochs), test_accs, label='Test Accuracy')\n",
    "ax[1].set(xlabel='Epoch', ylabel='Accuracy', title='Accuracy')\n",
    "ax[1].legend(loc='lower right')\n",
    "plt.show()\n",
    "plt.close()"
   ],
   "metadata": {
    "collapsed": false,
    "ExecuteTime": {
     "end_time": "2024-02-22T17:21:02.376734600Z",
     "start_time": "2024-02-22T17:21:01.211599300Z"
    }
   }
  },
  {
   "cell_type": "code",
   "execution_count": 48,
   "outputs": [
    {
     "name": "stdout",
     "output_type": "stream",
     "text": [
      "Accuracy: 0.9875\n"
     ]
    }
   ],
   "source": [
    "\n",
    "# Get predictions, labels, and images\n",
    "predictions, labels, images_list = get_predictions(model, testloader)\n",
    "correct = [pred == label for pred, label in zip(predictions, labels)]\n",
    "\n",
    "accuracy = calculate_accuracy(predictions, labels)\n",
    "\n",
    "print(f\"Accuracy: {accuracy}\")"
   ],
   "metadata": {
    "collapsed": false,
    "ExecuteTime": {
     "end_time": "2024-02-22T17:21:24.988969800Z",
     "start_time": "2024-02-22T17:21:16.067797300Z"
    }
   }
  },
  {
   "cell_type": "markdown",
   "source": [
    "# Simple CNN, with global AP"
   ],
   "metadata": {
    "id": "N3yv7lSBrnOl"
   }
  },
  {
   "cell_type": "code",
   "execution_count": 49,
   "outputs": [],
   "source": [
    "class ModelGP(nn.Module):\n",
    "    def __init__(self):\n",
    "        super(ModelGP, self).__init__()\n",
    "        self.conv1 = nn.Conv2d(1, 16, 3)\n",
    "        self.conv2 = nn.Conv2d(16, 32, 3, stride=2)\n",
    "        self.conv3 = nn.Conv2d(32, 64, 3, stride=2)\n",
    "        \n",
    "        self.fc1 = nn.Linear(64, 32)\n",
    "        self.fc2 = nn.Linear(32, 10)\n",
    "\n",
    "    def forward(self, x):\n",
    "        x = F.relu(self.conv1(x))  # 26x26\n",
    "        # print(x.shape)\n",
    "        x = F.relu(self.conv2(x))  # 12x12\n",
    "        # print(x.shape)\n",
    "        x = F.relu(self.conv3(x))  # 5x5\n",
    "        # print(x.shape)\n",
    "        x = F.adaptive_avg_pool2d(x, (1, 1))\n",
    "        # print(x.shape)\n",
    "        x = x.view(-1, 64)  # flatten 32x7x7 -> 32*7*7\n",
    "        # print(x.shape)\n",
    "        x = F.relu(self.fc1(x))\n",
    "        # print(x.shape)\n",
    "        logits = self.fc2(x)  # no activation, we will use cross-entropy loss with logits\n",
    "        # print(logits.shape)\n",
    "        \n",
    "        probs = F.softmax(logits, dim=1)\n",
    "\n",
    "        # Prediction: argmax for classification\n",
    "        pred = torch.argmax(probs, dim=1)\n",
    "\n",
    "        return logits, probs, pred\n",
    "\n",
    "model_gp = ModelGP().to(device)"
   ],
   "metadata": {
    "collapsed": false,
    "ExecuteTime": {
     "end_time": "2024-02-22T17:21:25.035743200Z",
     "start_time": "2024-02-22T17:21:24.988969800Z"
    }
   }
  },
  {
   "cell_type": "code",
   "execution_count": 50,
   "outputs": [
    {
     "data": {
      "text/plain": "25706"
     },
     "execution_count": 50,
     "metadata": {},
     "output_type": "execute_result"
    }
   ],
   "source": [
    "get_npars(model_gp)"
   ],
   "metadata": {
    "collapsed": false,
    "ExecuteTime": {
     "end_time": "2024-02-22T17:21:25.114511800Z",
     "start_time": "2024-02-22T17:21:25.013271900Z"
    }
   }
  },
  {
   "cell_type": "code",
   "execution_count": 51,
   "outputs": [],
   "source": [
    "# Optimizer (e.g., Adam)\n",
    "optimizer_gp = optim.Adam(model_gp.parameters(), lr=0.001)"
   ],
   "metadata": {
    "collapsed": false,
    "ExecuteTime": {
     "end_time": "2024-02-22T17:21:25.148910700Z",
     "start_time": "2024-02-22T17:21:25.032732900Z"
    }
   }
  },
  {
   "cell_type": "code",
   "execution_count": 52,
   "outputs": [
    {
     "name": "stdout",
     "output_type": "stream",
     "text": [
      "Epoch 1/10, Train Loss: 1.2618, Test Loss: 0.6313, Train Acc: 0.5592, Test Acc: 0.8018\n",
      "Epoch 2/10, Train Loss: 0.4976, Test Loss: 0.3867, Train Acc: 0.8442, Test Acc: 0.8761\n",
      "Epoch 3/10, Train Loss: 0.3412, Test Loss: 0.2921, Train Acc: 0.8972, Test Acc: 0.9090\n",
      "Epoch 4/10, Train Loss: 0.2725, Test Loss: 0.2543, Train Acc: 0.9185, Test Acc: 0.9219\n",
      "Epoch 5/10, Train Loss: 0.2397, Test Loss: 0.2090, Train Acc: 0.9275, Test Acc: 0.9403\n",
      "Epoch 6/10, Train Loss: 0.2111, Test Loss: 0.2214, Train Acc: 0.9368, Test Acc: 0.9306\n",
      "Epoch 7/10, Train Loss: 0.1890, Test Loss: 0.1706, Train Acc: 0.9428, Test Acc: 0.9510\n",
      "Epoch 8/10, Train Loss: 0.1705, Test Loss: 0.1466, Train Acc: 0.9486, Test Acc: 0.9553\n",
      "Epoch 9/10, Train Loss: 0.1566, Test Loss: 0.1364, Train Acc: 0.9531, Test Acc: 0.9608\n",
      "Epoch 10/10, Train Loss: 0.1415, Test Loss: 0.1307, Train Acc: 0.9577, Test Acc: 0.9610\n"
     ]
    }
   ],
   "source": [
    "num_epochs = 10\n",
    "train_losses = []\n",
    "test_losses = []\n",
    "train_accs = []\n",
    "test_accs = []\n",
    "for epoch in range(num_epochs):\n",
    "    train_loss, train_acc = train(model_gp, trainloader, criterion, optimizer_gp)\n",
    "    test_loss, test_acc = test(model_gp, testloader, criterion)\n",
    "\n",
    "    train_losses.append(train_loss)\n",
    "    test_losses.append(test_loss)\n",
    "    train_accs.append(train_acc)\n",
    "    test_accs.append(test_acc)\n",
    "\n",
    "    print(f'Epoch {epoch+1}/{num_epochs}, Train Loss: {train_loss:.4f}, Test Loss: {test_loss:.4f}, Train Acc: {train_acc:.4f}, Test Acc: {test_acc:.4f}')"
   ],
   "metadata": {
    "collapsed": false,
    "ExecuteTime": {
     "end_time": "2024-02-22T17:30:31.867951300Z",
     "start_time": "2024-02-22T17:21:25.048919600Z"
    }
   }
  },
  {
   "cell_type": "markdown",
   "source": [
    "Visualize the loss curves"
   ],
   "metadata": {
    "collapsed": false
   }
  },
  {
   "cell_type": "code",
   "execution_count": 53,
   "outputs": [
    {
     "data": {
      "text/plain": "<Figure size 1000x500 with 2 Axes>",
      "image/png": "[encoded data removed]"
     },
     "metadata": {},
     "output_type": "display_data"
    }
   ],
   "source": [
    "# Plotting\n",
    "fig, ax = plt.subplots(nrows=1, ncols=2, figsize=(10, 5))\n",
    "ax[0].plot(range(num_epochs), train_losses, label='Training Loss')\n",
    "ax[0].plot(range(num_epochs), test_losses, label='Test Loss')\n",
    "ax[0].set(xlabel='Epoch', ylabel='Loss', title='Loss')\n",
    "ax[0].legend(loc='upper right')\n",
    "\n",
    "ax[1].plot(range(num_epochs), train_accs, label='Training Accuracy')\n",
    "ax[1].plot(range(num_epochs), test_accs, label='Test Accuracy')\n",
    "ax[1].set(xlabel='Epoch', ylabel='Accuracy', title='Accuracy')\n",
    "ax[1].legend(loc='lower right')\n",
    "plt.show()\n",
    "plt.close()"
   ],
   "metadata": {
    "collapsed": false,
    "ExecuteTime": {
     "end_time": "2024-02-22T17:30:32.774791400Z",
     "start_time": "2024-02-22T17:30:31.867951300Z"
    }
   }
  },
  {
   "cell_type": "code",
   "execution_count": 54,
   "outputs": [
    {
     "name": "stdout",
     "output_type": "stream",
     "text": [
      "Accuracy: 0.961\n"
     ]
    }
   ],
   "source": [
    "# Get predictions, labels, and images\n",
    "predictions, labels, images_list = get_predictions(model_gp, testloader)\n",
    "correct = [pred == label for pred, label in zip(predictions, labels)]\n",
    "\n",
    "accuracy = calculate_accuracy(predictions, labels)\n",
    "\n",
    "print(f\"Accuracy: {accuracy}\")"
   ],
   "metadata": {
    "collapsed": false,
    "ExecuteTime": {
     "end_time": "2024-02-22T17:30:38.733689200Z",
     "start_time": "2024-02-22T17:30:32.786034400Z"
    }
   }
  },
  {
   "cell_type": "code",
   "execution_count": null,
   "outputs": [],
   "source": [
    "# ToDo: commit run longer or higher lr - not yet converged, but on a good track"
   ],
   "metadata": {
    "collapsed": false
   }
  }
 ]
}
