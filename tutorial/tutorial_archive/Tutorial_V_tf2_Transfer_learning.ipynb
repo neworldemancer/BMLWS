{
 "nbformat": 4,
 "nbformat_minor": 0,
 "metadata": {
  "accelerator": "GPU",
  "anaconda-cloud": {},
  "colab": {
   "name": "Tutorial_V_tf2_Transfer_learning.ipynb",
   "provenance": [],
   "collapsed_sections": [
    "r-csPGkyt2NU",
    "6rPsRTmIt2NR",
    "RAJ6Lsurt2Ne",
    "CNbOLvQYt2Nr",
    "DIQpBhAGO-3O",
    "pwH_H7b6t2N1",
    "Wh0y_Hr4t2N5",
    "6Rc9mTd-t2OM",
    "2K71p8F0t2OS",
    "20Mi9gfd3YGY",
    "ld9YzWme3fKg",
    "tCmZOuxKAO-9",
    "1u0_qadxt2Ok",
    "azGK6ie4Q05I",
    "rc2XnLqU4SBP"
   ]
  },
  "kernelspec": {
   "display_name": "Python 3",
   "language": "python",
   "name": "python3"
  },
  "language_info": {
   "codemirror_mode": {
    "name": "ipython",
    "version": 3
   },
   "file_extension": ".py",
   "mimetype": "text/x-python",
   "name": "python",
   "nbconvert_exporter": "python",
   "pygments_lexer": "ipython3",
   "version": "3.6.7"
  }
 },
 "cells": [
  {
   "cell_type": "markdown",
   "metadata": {
    "id": "TXHZ24Eyt2NN"
   },
   "source": [
    "# Tutorial V: Transfer Learning"
   ]
  },
  {
   "cell_type": "markdown",
   "metadata": {
    "id": "_Fcuv4BIt2NP"
   },
   "source": [
    "<p>\n",
    "Bern Winter School on Machine Learning, 2022<br>\n",
    "Prepared by Mykhailo Vladymyrov.\n",
    "</p>\n",
    "\n",
    "This work is licensed under a <a href=\"http://creativecommons.org/licenses/by-nc-sa/4.0/\">Creative Commons Attribution-NonCommercial-ShareAlike 4.0 International License</a>."
   ]
  },
  {
   "cell_type": "markdown",
   "metadata": {
    "id": "8sVP5taKt2NQ"
   },
   "source": [
    "In this session we will use the pretrained Inception model to build own image classifier. We will aslo learn how to save our trained models."
   ]
  },
  {
   "cell_type": "markdown",
   "metadata": {
    "id": "r-csPGkyt2NU"
   },
   "source": [
    "## 1. Load necessary libraries"
   ]
  },
  {
   "cell_type": "code",
   "metadata": {
    "id": "BJDyIDLtRhE7"
   },
   "source": [
    "colab = True # set to True is using google colab"
   ],
   "execution_count": null,
   "outputs": []
  },
  {
   "cell_type": "code",
   "metadata": {
    "id": "awNPpOj9CF6O"
   },
   "source": [
    "if colab:\n",
    "    %tensorflow_version 2.x"
   ],
   "execution_count": null,
   "outputs": []
  },
  {
   "cell_type": "code",
   "metadata": {
    "id": "ja1-byr4t2NV"
   },
   "source": [
    "import os\n",
    "import sys\n",
    "import shutil\n",
    "import tarfile\n",
    "\n",
    "import numpy as np\n",
    "import matplotlib.pyplot as plt\n",
    "import IPython.display as ipyd\n",
    "import tensorflow as tf\n",
    "from tensorflow.python.saved_model import signature_constants\n",
    "from tensorflow.python.saved_model import tag_constants\n",
    "\n",
    "from PIL import Image\n",
    "\n",
    "%load_ext tensorboard\n",
    "\n",
    "#physical_devices = tf.config.experimental.list_physical_devices('GPU')\n",
    "#tf.config.experimental.set_memory_growth(physical_devices[0], True)"
   ],
   "execution_count": null,
   "outputs": []
  },
  {
   "cell_type": "markdown",
   "metadata": {
    "id": "6rPsRTmIt2NR"
   },
   "source": [
    "### Download libraries"
   ]
  },
  {
   "cell_type": "code",
   "metadata": {
    "id": "qVXZj9jAt2NS"
   },
   "source": [
    "if colab:\n",
    "    path = os.path.abspath('.')+'/material.tgz'\n",
    "    url = 'https://github.com/neworldemancer/BMLWS/raw/main/tut_files/tpub0320.tgz'\n",
    "    p = tf.keras.utils.get_file(path, url)\n",
    "    assert p==path\n",
    "    tar = tarfile.open(path, \"r:gz\")\n",
    "    tar.extractall()\n",
    "    tar.close()"
   ],
   "execution_count": null,
   "outputs": []
  },
  {
   "cell_type": "markdown",
   "metadata": {
    "id": "RAJ6Lsurt2Ne"
   },
   "source": [
    "## 2. Transfer learning"
   ]
  },
  {
   "cell_type": "markdown",
   "metadata": {
    "id": "qVU2_Upzsa4a"
   },
   "source": [
    "We load first an inception model with pretrained weights, without the final classifier:"
   ]
  },
  {
   "cell_type": "code",
   "source": [
    "base_model = tf.keras.applications.InceptionV3(include_top=False)"
   ],
   "metadata": {
    "id": "hgEPy0eWSdoT"
   },
   "execution_count": null,
   "outputs": []
  },
  {
   "cell_type": "code",
   "source": [
    "#tf.keras.utils.plot_model(base_model, show_shapes=True)"
   ],
   "metadata": {
    "id": "lQMcYIObTBnF"
   },
   "execution_count": null,
   "outputs": []
  },
  {
   "cell_type": "markdown",
   "metadata": {
    "id": "-Dka9ZCCsqqI"
   },
   "source": [
    "And build a new model using it:"
   ]
  },
  {
   "cell_type": "code",
   "metadata": {
    "id": "DqAt-68cRlmp"
   },
   "source": [
    "x = tf.keras.layers.Input(shape=(256,256,3), dtype=tf.float32)\n",
    "\n",
    "base_model.trainable = False\n",
    "base_out = base_model(x)\n",
    "\n",
    "base_out_f = tf.keras.layers.GlobalAveragePooling2D()(base_out)\n",
    "\n",
    "h1 = tf.keras.layers.Dense(64, activation='sigmoid')(base_out_f)\n",
    "h2 = tf.keras.layers.Dense(2, activation='softmax')(h1)\n",
    "\n",
    "model = tf.keras.Model(x, h2)\n",
    "\n",
    "model.compile(optimizer=tf.keras.optimizers.Adam(0.0005,) ,\n",
    "              loss='categorical_crossentropy',\n",
    "              metrics=['accuracy'])"
   ],
   "execution_count": null,
   "outputs": []
  },
  {
   "cell_type": "code",
   "metadata": {
    "id": "HTudmDd5t2Nk"
   },
   "source": [
    "model.summary()"
   ],
   "execution_count": null,
   "outputs": []
  },
  {
   "cell_type": "markdown",
   "metadata": {
    "id": "CNbOLvQYt2Nr"
   },
   "source": [
    "## 3. Dataset"
   ]
  },
  {
   "cell_type": "markdown",
   "metadata": {
    "id": "ovWr8fDDt2Ns"
   },
   "source": [
    "The Inception network is trained on natural images: thigs we see around everyday, like sky, flowers, animals, building, cars.\n",
    "It builds an hierarchy of features, to describe what it sees. \n",
    "This features can be used to train fast on different classes of objects. E.g. [here](https://www.tensorflow.org/tutorials/image_retraining) are more examples on transfer learning.\n",
    "\n",
    "Here you will see that these features can be even used to detect thngs very different from natural images. Namely we will try to use it to distinguish German text from Italian. We will use 100 samples, taken from 5 German and 5 Italian books, 10 samples each."
   ]
  },
  {
   "cell_type": "code",
   "source": [
    "def prepare_training_img(img, crop=True, resize=True, img_size=(256, 256)):\n",
    "    if img.dtype != np.uint8:\n",
    "        img *= 255.0\n",
    "\n",
    "    if crop:\n",
    "        crop = np.min(img.shape[:2])\n",
    "        r = (img.shape[0] - crop) // 2\n",
    "        c = (img.shape[1] - crop) // 2\n",
    "        cropped = img[r: r + crop, c: c + crop]\n",
    "    else:\n",
    "        cropped = img\n",
    "\n",
    "    if resize:\n",
    "        img_pil = Image.fromarray(cropped)\n",
    "        img_pil = img_pil.resize(img_size, Image.ANTIALIAS)\n",
    "        resized = np.array(img_pil.convert('RGB'))\n",
    "    else:\n",
    "        resized = cropped.copy()\n",
    "\n",
    "    if resized.ndim == 2:\n",
    "        resized = resized[..., np.newaxis]\n",
    "    if resized.shape[2] == 4:\n",
    "        resized = resized[..., :3]\n",
    "    if resized.shape[2] == 1:\n",
    "        resized = np.concatenate((resized, resized, resized), axis=2)\n",
    "\n",
    "    resized = resized.astype(np.float32)\n",
    "\n",
    "    img_preproc = tf.keras.applications.inception_v3.preprocess_input(resized)\n",
    "    # subtract imagenet mean\n",
    "    return img_preproc\n",
    "\n",
    "def training_img_to_display(img):\n",
    "  return (img+1)/2"
   ],
   "metadata": {
    "id": "cYqmLWIdnrgT"
   },
   "execution_count": null,
   "outputs": []
  },
  {
   "cell_type": "code",
   "metadata": {
    "id": "mc_89xtZt2Ns"
   },
   "source": [
    "text_label = ['German', 'Italian']"
   ],
   "execution_count": null,
   "outputs": []
  },
  {
   "cell_type": "code",
   "metadata": {
    "id": "lOD1q75lt2Nu"
   },
   "source": [
    "labels0 = []\n",
    "images0 = []\n",
    "labels1 = []\n",
    "images1 = []\n",
    "\n",
    "#German\n",
    "for book in range(1,6):\n",
    "    for sample in range(1,11):\n",
    "        img = plt.imread('ML3/de/%d_%d.jpg'%(book, sample))\n",
    "        assert(img.shape[0]>=256 and img.shape[1]>=256 and len(img.shape)==3)\n",
    "        images0.append(prepare_training_img(img))\n",
    "        labels0.append([1,0])\n",
    "for book in range(1,6):\n",
    "    for sample in range(1,11):\n",
    "        img = plt.imread('ML3/it/%d_%d.jpg'%(book, sample))\n",
    "        assert(img.shape[0]>=256 and img.shape[1]>=256 and len(img.shape)==3)\n",
    "        images1.append(prepare_training_img(img))\n",
    "        labels1.append([0,1])\n",
    "        \n",
    "idx = np.random.permutation(len(labels0))\n",
    "labels0 = np.array(labels0)[idx]\n",
    "images0 = np.array(images0)[idx]\n",
    "labels1 = np.array(labels1)[idx]\n",
    "images1 = np.array(images1)[idx]"
   ],
   "execution_count": null,
   "outputs": []
  },
  {
   "cell_type": "code",
   "metadata": {
    "code_folding": [],
    "id": "85HJPDcAt2Nz",
    "scrolled": false
   },
   "source": [
    "#We will take 80% from each for training and 20 for validation\n",
    "n_half = images0.shape[0]\n",
    "n_train_half = n_half*80//100\n",
    "n_train = n_train_half*2\n",
    "\n",
    "x_train = np.concatenate([images0[:n_train_half], images1[:n_train_half]])\n",
    "y_train = np.concatenate([labels0[:n_train_half], labels1[:n_train_half]])\n",
    "\n",
    "x_valid = np.concatenate([images0[n_train_half:], images1[n_train_half:]])\n",
    "y_valid = np.concatenate([labels0[n_train_half:], labels1[n_train_half:]])"
   ],
   "execution_count": null,
   "outputs": []
  },
  {
   "cell_type": "markdown",
   "metadata": {
    "id": "A2Pf2tEpt2Nw"
   },
   "source": [
    "Lets see a sample:"
   ]
  },
  {
   "cell_type": "code",
   "metadata": {
    "id": "DUu3dTUXt2Nw"
   },
   "source": [
    "_, axs = plt.subplots(1, 2, figsize=(10,10))\n",
    "img_d = training_img_to_display(images0[25])\n",
    "axs[0].imshow(img_d)\n",
    "axs[0].grid(False)\n",
    "img_d = training_img_to_display(images1[25])\n",
    "axs[1].imshow(img_d)\n",
    "axs[1].grid(False)\n",
    "plt.show()"
   ],
   "execution_count": null,
   "outputs": []
  },
  {
   "cell_type": "markdown",
   "metadata": {
    "id": "DIQpBhAGO-3O"
   },
   "source": [
    "## 4. Training"
   ]
  },
  {
   "cell_type": "markdown",
   "metadata": {
    "id": "apBoSWOOt2Ny"
   },
   "source": [
    "The training is similar to what we we saw previously.\n",
    "\n",
    "Since Inception model is big, this will take a while, even we use GPUs. On your laptop CPU this would probably take ~15 times longer. And we are not training the whole Inception! We have just small thing on top + a very small dataset!"
   ]
  },
  {
   "cell_type": "markdown",
   "metadata": {
    "id": "ibxBnLALPNn_"
   },
   "source": [
    "We will use callback to save checkpoints on each iteration of training. They contain values of trainable variables."
   ]
  },
  {
   "cell_type": "code",
   "metadata": {
    "id": "H6TwMc5jaU-P",
    "scrolled": true
   },
   "source": [
    "save_path = 'save/text_{epoch}.ckpt'\n",
    "\n",
    "batch_size=10\n",
    "n_itr_per_epoch = len(x_train) // batch_size\n",
    "save_callback = tf.keras.callbacks.ModelCheckpoint(filepath=save_path,\n",
    "                                                   save_weights_only=True,\n",
    "                                                   save_freq=1 * n_itr_per_epoch) # save every 1 epochs\n",
    "\n",
    "hist = model.fit(x_train, y_train,\n",
    "                 epochs=150, batch_size=batch_size, \n",
    "                 validation_data=(x_valid, y_valid),\n",
    "                 callbacks=[save_callback])"
   ],
   "execution_count": null,
   "outputs": []
  },
  {
   "cell_type": "code",
   "metadata": {
    "id": "VU6aG1zlaVcA"
   },
   "source": [
    "fig, axs = plt.subplots(1, 2, figsize=(10,5))\n",
    "axs[0].plot(hist.epoch, hist.history['loss'])\n",
    "axs[0].plot(hist.epoch, hist.history['val_loss'])\n",
    "axs[0].legend(('training loss', 'validation loss'), loc='lower right')\n",
    "axs[1].plot(hist.epoch, hist.history['accuracy'])\n",
    "axs[1].plot(hist.epoch, hist.history['val_accuracy'])\n",
    "\n",
    "axs[1].legend(('training accuracy', 'validation accuracy'), loc='lower right')\n",
    "plt.show()"
   ],
   "execution_count": null,
   "outputs": []
  },
  {
   "cell_type": "markdown",
   "metadata": {
    "id": "Yr5x3x2at2N0"
   },
   "source": [
    "We see that training accuracy hits 100% quickly. Why do you think it happens? Consider that loss keeps decreasing.\n",
    "Also on such a small dataset our model overfits."
   ]
  },
  {
   "cell_type": "markdown",
   "metadata": {
    "id": "pwH_H7b6t2N1"
   },
   "source": [
    "## 5. Load trained variables"
   ]
  },
  {
   "cell_type": "markdown",
   "metadata": {
    "id": "yrtttZKEt2N1"
   },
   "source": [
    "If we have the model already created we can easily load the saved training variables values from a checkpoint:"
   ]
  },
  {
   "cell_type": "code",
   "metadata": {
    "id": "6uc8TW0vt2N2"
   },
   "source": [
    "#in the beginning:\n",
    "model.load_weights('save/text_5.ckpt')\n",
    "model.evaluate(images1[:1],  labels1[:1], verbose=2)\n",
    "\n",
    "#in the end:\n",
    "model.load_weights('save/text_150.ckpt')\n",
    "model.evaluate(images1[:1],  labels1[:1], verbose=2)"
   ],
   "execution_count": null,
   "outputs": []
  },
  {
   "cell_type": "markdown",
   "metadata": {
    "id": "Wh0y_Hr4t2N5"
   },
   "source": [
    "## 6. Saving for inference."
   ]
  },
  {
   "cell_type": "markdown",
   "metadata": {
    "id": "24LEtunzQGMf"
   },
   "source": [
    "In tf2 it's easy to save a model for inference:"
   ]
  },
  {
   "cell_type": "code",
   "metadata": {
    "id": "zKSZz5Jnt2OK"
   },
   "source": [
    "tf.saved_model.save(model, \"inference_model/\")"
   ],
   "execution_count": null,
   "outputs": []
  },
  {
   "cell_type": "markdown",
   "metadata": {
    "id": "6Rc9mTd-t2OM"
   },
   "source": [
    "## 7. Inference"
   ]
  },
  {
   "cell_type": "code",
   "metadata": {
    "id": "cJIgyaB7t2ON"
   },
   "source": [
    "mod = tf.saved_model.load('inference_model')\n",
    "func = mod.signatures[\"serving_default\"]"
   ],
   "execution_count": null,
   "outputs": []
  },
  {
   "cell_type": "code",
   "metadata": {
    "id": "y-qCAKnEd2p6"
   },
   "source": [
    "output_name = model.output_names[0]  # single output\n",
    "print(output_name)"
   ],
   "execution_count": null,
   "outputs": []
  },
  {
   "cell_type": "code",
   "metadata": {
    "id": "nu7AI5U4t2OP"
   },
   "source": [
    "res = func(tf.constant(images1[:1]))[output_name]\n",
    "print(res)"
   ],
   "execution_count": null,
   "outputs": []
  },
  {
   "cell_type": "markdown",
   "metadata": {
    "id": "SZMfDpJwiPD0"
   },
   "source": [
    "Or we can make a nice wrapper:"
   ]
  },
  {
   "cell_type": "code",
   "metadata": {
    "code_folding": [
     0
    ],
    "id": "XmDxdQoDeUey"
   },
   "source": [
    "class Inferer:\n",
    "    def __init__(self, model_path, output_name):\n",
    "        self.mod = tf.saved_model.load(model_path)\n",
    "        self.func = self.mod.signatures[\"serving_default\"]\n",
    "        self.output_name = output_name\n",
    "        self.class_names = np.array(['german', 'italian'])\n",
    "        self.max_len = 64\n",
    "\n",
    "    def infere_class_batch(self, inputs):\n",
    "        probabilities = self.func(tf.constant(inputs))[self.output_name].numpy()\n",
    "        classes = np.argmax(probabilities, axis=1)\n",
    "        probs = probabilities[np.arange(len(classes)), classes]\n",
    "        return classes, probs\n",
    "\n",
    "    def infere_class(self, inputs):\n",
    "        n = len(inputs)\n",
    "        if n > self.max_len:\n",
    "            classes = []\n",
    "            probs = []\n",
    "            for i in range( (n+self.max_len-1) // self.max_len):\n",
    "                batch = inputs[i* self.max_len : (i+1)* self.max_len]\n",
    "                batch_classes, batch_probs = self.infere_class_batch(batch)\n",
    "                classes.append(batch_classes)\n",
    "                probs.append(batch_probs)\n",
    "            classes = np.concatenate(classes)\n",
    "            probs = np.concatenate(probs)\n",
    "        else:\n",
    "            classes, probs = self.infere_class_batch(inputs)\n",
    "  \n",
    "        return classes, probs\n",
    "\n",
    "    def infere(self, inputs, prob=False):\n",
    "        classes, probs = self.infere_class(inputs)\n",
    "        cn = self.class_names[classes]\n",
    "        return (cn, probs) if prob else cn"
   ],
   "execution_count": null,
   "outputs": []
  },
  {
   "cell_type": "code",
   "metadata": {
    "id": "6ZVASuj1jYLx"
   },
   "source": [
    "inf = Inferer('inference_model', output_name)"
   ],
   "execution_count": null,
   "outputs": []
  },
  {
   "cell_type": "code",
   "metadata": {
    "id": "YJSEv3ctfmwy"
   },
   "source": [
    "inf.infere(images0)"
   ],
   "execution_count": null,
   "outputs": []
  },
  {
   "cell_type": "code",
   "metadata": {
    "id": "EpLPDU87lBMp"
   },
   "source": [
    "images_all = np.concatenate([images0, images1])"
   ],
   "execution_count": null,
   "outputs": []
  },
  {
   "cell_type": "code",
   "metadata": {
    "id": "GOqCpeZ4fyTh"
   },
   "source": [
    "inf.infere(images_all, prob=True) # ouput class confidence probability"
   ],
   "execution_count": null,
   "outputs": []
  },
  {
   "cell_type": "markdown",
   "metadata": {
    "id": "2K71p8F0t2OS"
   },
   "source": [
    "## 8. Improving the results"
   ]
  },
  {
   "cell_type": "markdown",
   "metadata": {
    "id": "iwVcKUelt2OU"
   },
   "source": [
    "Often, as in this sample we don't have anough labeled data in hand. We need to use it as efficient as possible.\n",
    "One way to do it is to aply training data augmentation: we can slightly distort it, e.g. rescale, to effectively multiply the dataset."
   ]
  },
  {
   "cell_type": "markdown",
   "metadata": {
    "id": "zoER6gFgt2OV"
   },
   "source": [
    "We will generate rescaled images, minimum - to have smaller dimension equal 256, maximum - 130%. Let's define a function which will do this job:"
   ]
  },
  {
   "cell_type": "code",
   "metadata": {
    "id": "lBX83LXot2OV"
   },
   "source": [
    "def get_random_scaled_img(file, minsize = 256, scalemax=1.3):\n",
    "    im = Image.open(file)\n",
    "    w, h = im.size\n",
    "    # get minimal possible size\n",
    "    scalemin =float(minsize) / min(w,h)\n",
    "    # get a rescale factor from a uniform distribution.\n",
    "    scale = scalemin + np.random.rand() * (scalemax - scalemin)\n",
    "    w1 = int(max(minsize, scale*w))\n",
    "    h1 = int(max(minsize, scale*h))\n",
    "    \n",
    "    #rescale with smoothing\n",
    "    im1 = im.resize((w1,h1), Image.ANTIALIAS)\n",
    "    #get numpy array from the PIL Image\n",
    "    img_arr = np.array(im1.convert('RGB'))\n",
    "\n",
    "    #crop to 256x256, preventing further resize by prepare_training_img\n",
    "    r = (img_arr.shape[0] - minsize) // 2\n",
    "    c = (img_arr.shape[1] - minsize) // 2\n",
    "    img_arr = img_arr[r:r+minsize,c:c+minsize]\n",
    "\n",
    "    return img_arr"
   ],
   "execution_count": null,
   "outputs": []
  },
  {
   "cell_type": "markdown",
   "metadata": {
    "id": "GL8Qt87it2OX"
   },
   "source": [
    "Lets check rescaled images."
   ]
  },
  {
   "cell_type": "code",
   "metadata": {
    "id": "0C4aL8x_t2OX"
   },
   "source": [
    "n_smpl=2\n",
    "scaled_imgs=[get_random_scaled_img('ML3/de/%d_%d.jpg'%(1, 1)) for i in range(n_smpl**2)]\n",
    "fig, ax = plt.subplots(n_smpl, n_smpl, figsize=(n_smpl*4, n_smpl*4))\n",
    "for row in range(n_smpl):\n",
    "    for col in range(n_smpl):\n",
    "        ax[col, row].imshow(scaled_imgs[row*n_smpl+col])\n",
    "        ax[col, row].grid(False)"
   ],
   "execution_count": null,
   "outputs": []
  },
  {
   "cell_type": "markdown",
   "metadata": {
    "id": "kisfRq3vt2OZ"
   },
   "source": [
    "Read again images, now generating 5 rescaled from each one."
   ]
  },
  {
   "cell_type": "code",
   "metadata": {
    "id": "o3DtE8hQt2OZ"
   },
   "source": [
    "labels0 = []\n",
    "images0 = []\n",
    "labels1 = []\n",
    "images1 = []\n",
    "\n",
    "mult = 5\n",
    "#German\n",
    "for book in range(1,6):\n",
    "    for sample in range(1,11):\n",
    "        for itr in range(mult):\n",
    "            img = get_random_scaled_img('ML3/de/%d_%d.jpg'%(book, sample))\n",
    "            assert(img.shape[0]>=256 and img.shape[1]>=256 and len(img.shape)==3)\n",
    "            images0.append(prepare_training_img(img))\n",
    "            labels0.append([1,0])\n",
    "#Italian\n",
    "for book in range(1,6):\n",
    "    for sample in range(1,11):\n",
    "        for itr in range(mult):\n",
    "            img = get_random_scaled_img('ML3/it/%d_%d.jpg'%(book, sample))\n",
    "            assert(img.shape[0]>=256 and img.shape[1]>=256 and len(img.shape)==3)\n",
    "            images1.append(prepare_training_img(img))\n",
    "            labels1.append([0,1])\n",
    "        \n",
    "idx = np.random.permutation(len(labels0))\n",
    "labels0 = np.array(labels0)[idx]\n",
    "images0 = np.array(images0)[idx]\n",
    "labels1 = np.array(labels1)[idx]\n",
    "images1 = np.array(images1)[idx]"
   ],
   "execution_count": null,
   "outputs": []
  },
  {
   "cell_type": "code",
   "metadata": {
    "id": "XPTso1cft2Ob"
   },
   "source": [
    "#We will take 80% from each for training and 20 for validation\n",
    "n_half = images0.shape[0]\n",
    "n_train_half = n_half*80//100\n",
    "n_train = n_train_half*2\n",
    "\n",
    "x_train = np.concatenate([images0[:n_train_half], images1[:n_train_half]])\n",
    "y_train = np.concatenate([labels0[:n_train_half], labels1[:n_train_half]])\n",
    "\n",
    "x_valid = np.concatenate([images0[n_train_half:], images1[n_train_half:]])\n",
    "y_valid = np.concatenate([labels0[n_train_half:], labels1[n_train_half:]])"
   ],
   "execution_count": null,
   "outputs": []
  },
  {
   "cell_type": "markdown",
   "metadata": {
    "id": "ZeDPdwjHt2Ob"
   },
   "source": [
    "And finally do training again, same way. Just now we change the number of epochs: before we had 150, but now that we have 5 times more training data we'll do 60. While 60 > 150/5, it looks like it takes a bit more time to converge.\n",
    "We use the same graph as before, `g2`, the one we can train."
   ]
  },
  {
   "cell_type": "code",
   "metadata": {
    "id": "bzum4jNQRhHB"
   },
   "source": [
    "#We will take 80% from each for training and 20 for validation\n",
    "n_half = images0.shape[0]\n",
    "n_train_half = n_half*80//100\n",
    "n_train = n_train_half*2\n",
    "\n",
    "x_train = np.concatenate([images0[:n_train_half], images1[:n_train_half]])\n",
    "y_train = np.concatenate([labels0[:n_train_half], labels1[:n_train_half]])\n",
    "\n",
    "x_valid = np.concatenate([images0[n_train_half:], images1[n_train_half:]])\n",
    "y_valid = np.concatenate([labels0[n_train_half:], labels1[n_train_half:]])"
   ],
   "execution_count": null,
   "outputs": []
  },
  {
   "cell_type": "code",
   "metadata": {
    "id": "3s2lS9FLZHqw"
   },
   "source": [
    "x = tf.keras.layers.Input(shape=(256,256,3), dtype=tf.float32)\n",
    "\n",
    "base_model.trainable = False\n",
    "base_out = base_model(x)\n",
    "\n",
    "base_out_f = tf.keras.layers.GlobalAveragePooling2D()(base_out)\n",
    "\n",
    "h1 = tf.keras.layers.Dense(64, activation='sigmoid')(base_out_f)\n",
    "h2 = tf.keras.layers.Dense(2, activation='softmax')(h1)\n",
    "\n",
    "model_aug = tf.keras.Model(x, h2)\n",
    "\n",
    "model_aug.compile(optimizer=tf.keras.optimizers.Adam(0.0005,) ,\n",
    "              loss='categorical_crossentropy',\n",
    "              metrics=['accuracy'])"
   ],
   "execution_count": null,
   "outputs": []
  },
  {
   "cell_type": "code",
   "metadata": {
    "id": "hX8D7NZ7lsEl"
   },
   "source": [
    "save_path = 'save/text_augmented_{epoch}.ckpt'\n",
    "\n",
    "batch_size=10\n",
    "n_itr_per_epoch = len(x_train) // batch_size\n",
    "save_callback = tf.keras.callbacks.ModelCheckpoint(filepath=save_path,\n",
    "                                                   save_weights_only=True,\n",
    "                                                   save_freq=1 * n_itr_per_epoch) # save every 1 epochs\n",
    "                                                   \n",
    "hist = model_aug.fit(x_train, y_train,\n",
    "                 epochs=60, batch_size=batch_size, \n",
    "                 validation_data=(x_valid, y_valid),\n",
    "                 callbacks=[save_callback])"
   ],
   "execution_count": null,
   "outputs": []
  },
  {
   "cell_type": "code",
   "metadata": {
    "id": "TJlKctX6l32R"
   },
   "source": [
    "fig, axs = plt.subplots(1, 2, figsize=(10,5))\n",
    "axs[0].plot(hist.epoch, hist.history['loss'])\n",
    "axs[0].plot(hist.epoch, hist.history['val_loss'])\n",
    "axs[0].legend(('training loss', 'validation loss'), loc='lower right')\n",
    "axs[1].plot(hist.epoch, hist.history['accuracy'])\n",
    "axs[1].plot(hist.epoch, hist.history['val_accuracy'])\n",
    "\n",
    "axs[1].legend(('training accuracy', 'validation accuracy'), loc='lower right')\n",
    "plt.show()"
   ],
   "execution_count": null,
   "outputs": []
  },
  {
   "cell_type": "code",
   "metadata": {
    "id": "QsLty-0Rl_u1"
   },
   "source": [
    "# model_aug.load_weights('save/text_augmented_23.ckpt')\n",
    "tf.saved_model.save(model_aug, \"inference_model_aug/\")"
   ],
   "execution_count": null,
   "outputs": []
  },
  {
   "cell_type": "markdown",
   "metadata": {
    "id": "XHZx8jQot2Oc"
   },
   "source": [
    "We had a REEEALLY small dataset for such a complicated task. Does it really generalize? mb it just memorizes all the images we fed into it? Lets perform a test. `w1.PNG` and `w2.PNG` are text screenshots from wikipedia in [Italian](https://it.wikipedia.org/wiki/Apprendimento_automatico) and [German](https://de.wikipedia.org/wiki/Maschinelles_Lernen)."
   ]
  },
  {
   "cell_type": "code",
   "metadata": {
    "id": "XGbAqHCWt2Od"
   },
   "source": [
    "# load images\n",
    "im_wiki_1 = plt.imread('ML3/w1.jpg')\n",
    "im_wiki_2 = plt.imread('ML3/w2.jpg')\n",
    "\n",
    "# crop/covert for proper color range\n",
    "im_wiki_1_p = prepare_training_img(im_wiki_1)[np.newaxis]\n",
    "im_wiki_2_p = prepare_training_img(im_wiki_2)[np.newaxis]"
   ],
   "execution_count": null,
   "outputs": []
  },
  {
   "cell_type": "code",
   "metadata": {
    "id": "4T6yv7z8mPc-"
   },
   "source": [
    "output_name = model_aug.output_names[0]\n",
    "inf = Inferer('inference_model_aug', output_name)"
   ],
   "execution_count": null,
   "outputs": []
  },
  {
   "cell_type": "code",
   "metadata": {
    "id": "YCXZInp8mPdC"
   },
   "source": [
    "class_name, prob = inf.infere(np.concatenate([im_wiki_1_p, im_wiki_2_p]), prob=True)\n",
    "\n",
    "\n",
    "print('probabilities for w1:', prob[0], 'detected language:', class_name[0])\n",
    "print('probabilities for w2:', prob[1], 'detected language:', class_name[1])\n",
    "\n",
    "# Show image crops\n",
    "plt.imshow( training_img_to_display(im_wiki_1_p[0]))\n",
    "plt.show()\n",
    "plt.imshow( training_img_to_display(im_wiki_2_p[0]))\n",
    "plt.show()\n",
    "\n"
   ],
   "execution_count": null,
   "outputs": []
  },
  {
   "cell_type": "markdown",
   "metadata": {
    "id": "MN0LvX7dt2Of"
   },
   "source": [
    "## 9. Excercises"
   ]
  },
  {
   "cell_type": "markdown",
   "source": [
    "Do in 4 groups (35 min), in the end present results (2 min/group)"
   ],
   "metadata": {
    "id": "qIylnFqtVbVD"
   }
  },
  {
   "cell_type": "markdown",
   "source": [
    "### Option 1."
   ],
   "metadata": {
    "id": "20Mi9gfd3YGY"
   }
  },
  {
   "cell_type": "markdown",
   "metadata": {
    "id": "HGzj4VPFt2Og"
   },
   "source": [
    "There is a serious problem in the example above: the training and validation datasets are not independent. We generated 5 randomly scaled images from each initial image. With high probability from 5 images (generated from same initial one!) some will end up im the training and some in validation datasets. Since they are generated from the same initial ones, they are not fully independent. This compromises evaluation of model performance, leading to an overestimate of the performance.\n",
    "\n",
    "1. Modify the generation of the training and validation datasets to fulfil requirenment of independance.\n",
    "2. Check how validation accuracy and loss changes\n",
    "\n",
    "Do not look solution to Option 1 ^_^"
   ]
  },
  {
   "cell_type": "markdown",
   "source": [
    "### Option 2."
   ],
   "metadata": {
    "id": "ld9YzWme3fKg"
   }
  },
  {
   "cell_type": "markdown",
   "metadata": {
    "id": "TiPqMhoQ3fKg"
   },
   "source": [
    "In the situation when the model is likely to overfit, final performance would especially depend on the learning rate.\n",
    "\n",
    "* Plot the best validation accuracy vs learning rate.\n",
    "* Plot the number of epochs untill the best validation accuracy vs learning rate.\n",
    "\n",
    "Test learning rates within +/- 1.5 orders of magnitude, i.e. from 30 times smaller to 30 times larger learning rates, than the current one.\n",
    "\n",
    "Get 3 replicates.\n",
    "\n",
    "Use test/validation split from solution to Exercise 1."
   ]
  },
  {
   "cell_type": "markdown",
   "source": [
    "### Option 3."
   ],
   "metadata": {
    "id": "tCmZOuxKAO-9"
   }
  },
  {
   "cell_type": "markdown",
   "metadata": {
    "id": "QgnyYP0PAbtK"
   },
   "source": [
    "In the situation when the model is likely to overfit, final performance would especially depend on the model's architecture.\n",
    "\n",
    "* Plot the best validation accuracy vs width of the first dense layer.\n",
    "* Plot the number of epochs untill the best validation accuracy vs width.\n",
    "\n",
    "Test number of features in the first dense layer between 8 and 4096.\n",
    "\n",
    "Get 3 replicates.\n",
    "\n",
    "Use test/validation split from solution to Exercise 1."
   ]
  },
  {
   "cell_type": "markdown",
   "source": [
    "### Option 4."
   ],
   "metadata": {
    "id": "kPkcdbb3CnUT"
   }
  },
  {
   "cell_type": "markdown",
   "metadata": {
    "id": "q8OGYj8eCnUU"
   },
   "source": [
    "We tested one model for the backbone of trnasfer learning. Try other ones (at least 3): https://www.tensorflow.org/api_docs/python/tf/keras/applications.\n",
    "\n",
    "\n",
    "* Plot the best validation accuracy vs model.\n",
    "* Plot the number of epochs until the best validation accuracy vs model.\n",
    "* Does any model generalize to wiki data?\n",
    "\n",
    "Run 3 replicates for each model. Input size might vary for different models, adjust the crop size accordingly in parameters to `prepare_training_img`.\n",
    "\n",
    "Use test/validation split from solution to Exercise 1.\n"
   ]
  },
  {
   "cell_type": "markdown",
   "metadata": {
    "id": "1u0_qadxt2Ok"
   },
   "source": [
    "## 10. Homework\n"
   ]
  },
  {
   "cell_type": "markdown",
   "source": [
    "For more information on transfer learing look https://www.tensorflow.org/guide/keras/transfer_learning"
   ],
   "metadata": {
    "id": "MIrjlliiqWWv"
   }
  },
  {
   "cell_type": "markdown",
   "metadata": {
    "id": "-SetU7UKt2Ol"
   },
   "source": [
    "So far we scaled images as a whole.\n",
    "Which other augmentations would make sence for the text data?\n",
    "Check https://www.tensorflow.org/tutorials/images/data_augmentation"
   ]
  },
  {
   "cell_type": "markdown",
   "metadata": {
    "id": "azGK6ie4Q05I"
   },
   "source": [
    "## 11. Solutions"
   ]
  },
  {
   "cell_type": "markdown",
   "source": [
    "### Option 1"
   ],
   "metadata": {
    "id": "rc2XnLqU4SBP"
   }
  },
  {
   "cell_type": "markdown",
   "metadata": {
    "id": "uwUWaKdeRhHe"
   },
   "source": [
    "To prevent same rescaled versions of the same image ending up in both training and validation sets, we could split the dataset first"
   ]
  },
  {
   "cell_type": "code",
   "metadata": {
    "id": "cPBjfz05RhHe"
   },
   "source": [
    "np.random.seed(42)  # ensure all groups and runs to have the same training/validation split.\n",
    "\n",
    "# list all samples\n",
    "de_book_sample = [(book, sample) for book in range(1,6) for sample in range(1,11)]\n",
    "it_book_sample = [(book, sample) for book in range(1,6) for sample in range(1,11)]\n",
    "\n",
    "de_book_sample = np.array(de_book_sample)\n",
    "it_book_sample = np.array(it_book_sample)\n",
    "\n",
    "# get array of permultation indexes\n",
    "n_half = len(de_book_sample)  # size of both datasets is identical\n",
    "de_idx = np.random.permutation(n_half)\n",
    "it_idx = np.random.permutation(n_half)\n",
    "\n",
    "# shuffle list of samples\n",
    "de_book_sample = de_book_sample[de_idx]\n",
    "it_book_sample = it_book_sample[it_idx]\n",
    "\n",
    "# split training and validation\n",
    "# We will take 80% from each for training and 20 for validation\n",
    "n_train_half = n_half*80//100\n",
    "n_train = n_train_half*2\n",
    "\n",
    "de_book_sample_train = de_book_sample[:n_train_half] # first 80 %\n",
    "de_book_sample_valid = de_book_sample[n_train_half:] # remaining part\n",
    "\n",
    "it_book_sample_train = it_book_sample[:n_train_half] # first 80 %\n",
    "it_book_sample_valid = it_book_sample[n_train_half:] # remaining part\n",
    "\n",
    "x_train = []\n",
    "y_train = []\n",
    "\n",
    "x_valid = []\n",
    "y_valid = []\n",
    "\n",
    "mult = 10\n",
    "for itr in range(mult):\n",
    "    # each pair [book,sample] goes to either training or validation set, not both\n",
    "    # German training\n",
    "    for book, sample in de_book_sample_train:\n",
    "        img = get_random_scaled_img('ML3/de/%d_%d.jpg'%(book, sample), scalemax=1.5)\n",
    "        assert(img.shape[0]>=256 and img.shape[1]>=256 and len(img.shape)==3)\n",
    "        x_train.append(prepare_training_img(img))\n",
    "        y_train.append([1,0])\n",
    "  \n",
    "    # Italian training\n",
    "    for book, sample in it_book_sample_train:\n",
    "        img = get_random_scaled_img('ML3/it/%d_%d.jpg'%(book, sample), scalemax=1.5)\n",
    "        assert(img.shape[0]>=256 and img.shape[1]>=256 and len(img.shape)==3)\n",
    "        x_train.append(prepare_training_img(img))\n",
    "        y_train.append([0,1])\n",
    "  \n",
    "    # German validation\n",
    "    for book, sample in de_book_sample_valid:\n",
    "        img = get_random_scaled_img('ML3/de/%d_%d.jpg'%(book, sample), scalemax=1.5)\n",
    "        assert(img.shape[0]>=256 and img.shape[1]>=256 and len(img.shape)==3)\n",
    "        x_valid.append(prepare_training_img(img))\n",
    "        y_valid.append([1,0])\n",
    "  \n",
    "    # Italian validation\n",
    "    for book, sample in it_book_sample_valid:\n",
    "        img = get_random_scaled_img('ML3/it/%d_%d.jpg'%(book, sample), scalemax=1.5)\n",
    "        assert(img.shape[0]>=256 and img.shape[1]>=256 and len(img.shape)==3)\n",
    "        x_valid.append(prepare_training_img(img))\n",
    "        y_valid.append([0,1])\n",
    "\n",
    "\n",
    "x_train = np.array(x_train)\n",
    "y_train = np.array(y_train)\n",
    "\n",
    "x_valid = np.array(x_valid)\n",
    "y_valid = np.array(y_valid)"
   ],
   "execution_count": null,
   "outputs": []
  },
  {
   "cell_type": "code",
   "source": [],
   "metadata": {
    "id": "uKy_7H6dzY2r"
   },
   "execution_count": null,
   "outputs": []
  }
 ]
}
