{
  "nbformat": 4,
  "nbformat_minor": 0,
  "metadata": {
    "colab": {
      "name": "Tutorial_IV_homework_solution_tf2",
      "provenance": [],
      "collapsed_sections": []
    },
    "kernelspec": {
      "name": "python3",
      "display_name": "Python 3"
    },
    "language_info": {
      "name": "python"
    },
    "accelerator": "GPU"
  },
  "cells": [
    {
      "cell_type": "markdown",
      "source": [
        "# Libs"
      ],
      "metadata": {
        "id": "lTCePWDb8G2x"
      }
    },
    {
      "cell_type": "code",
      "execution_count": 1,
      "metadata": {
        "id": "Nznbe6Gv5WfN"
      },
      "outputs": [],
      "source": [
        "import os\n",
        "import sys\n",
        "\n",
        "import numpy as np\n",
        "import matplotlib.pyplot as plt\n",
        "import tensorflow as tf\n",
        "import tensorflow.keras.datasets.mnist as mnist\n"
      ]
    },
    {
      "cell_type": "markdown",
      "source": [
        "# Data"
      ],
      "metadata": {
        "id": "zr04U6ep8KCl"
      }
    },
    {
      "cell_type": "code",
      "source": [
        "(x_train_2d, y_train), (x_test_2d, y_test) = mnist.load_data()\n",
        "x_train_2d = x_train_2d/255.0\n",
        "x_test_2d = x_test_2d/255.0\n",
        "\n",
        "\n",
        "print ('train: data shape', x_train_2d.shape, 'label shape', y_train.shape)\n",
        "print ('test: data shape', x_test_2d.shape, 'label shape', y_test.shape)"
      ],
      "metadata": {
        "colab": {
          "base_uri": "https://localhost:8080/"
        },
        "id": "5C2Ppird6gcr",
        "outputId": "0efe6962-19d8-436e-f66c-74e0ca78db92"
      },
      "execution_count": 2,
      "outputs": [
        {
          "output_type": "stream",
          "name": "stdout",
          "text": [
            "Downloading data from https://storage.googleapis.com/tensorflow/tf-keras-datasets/mnist.npz\n",
            "11493376/11490434 [==============================] - 0s 0us/step\n",
            "11501568/11490434 [==============================] - 0s 0us/step\n",
            "train: data shape (60000, 28, 28) label shape (60000,)\n",
            "test: data shape (10000, 28, 28) label shape (10000,)\n"
          ]
        }
      ]
    },
    {
      "cell_type": "code",
      "source": [
        "x_train = x_train_2d[..., np.newaxis]\n",
        "x_test = x_test_2d[..., np.newaxis]"
      ],
      "metadata": {
        "id": "JLsPDN9l6nYD"
      },
      "execution_count": 3,
      "outputs": []
    },
    {
      "cell_type": "markdown",
      "source": [
        "# Simple CNN"
      ],
      "metadata": {
        "id": "DM5JEhNC8NUa"
      }
    },
    {
      "cell_type": "code",
      "source": [
        "x = tf.keras.layers.Input(shape=(28, 28, 1))\n",
        "\n",
        "l1 = tf.keras.layers.Conv2D(16, 3, name = 'C1', kernel_initializer='he_uniform', activation='relu')(x)\n",
        "l2 = tf.keras.layers.Conv2D(32, 3, strides=2, name = 'C2', kernel_initializer='he_uniform', activation='relu')(l1)\n",
        "l3 = tf.keras.layers.Conv2D(64, 3, strides=2, name = 'C3', kernel_initializer='he_uniform', activation='relu')(l2)\n",
        "\n",
        "l3_f = tf.keras.layers.Flatten()(l3)\n",
        "\n",
        "l4 = tf.keras.layers.Dense(units=32, name='l4', activation='relu')(l3_f)\n",
        "l5 = tf.keras.layers.Dense(units=10, name='l5', activation='softmax')(l4)"
      ],
      "metadata": {
        "id": "47Czyjrx64Jd"
      },
      "execution_count": 4,
      "outputs": []
    },
    {
      "cell_type": "code",
      "source": [
        "model = tf.keras.Model(x, l5)"
      ],
      "metadata": {
        "id": "HLw3PZ3V668z"
      },
      "execution_count": 5,
      "outputs": []
    },
    {
      "cell_type": "code",
      "source": [
        "optimizer = tf.keras.optimizers.Adam(learning_rate=0.005)\n",
        "model.compile(optimizer=optimizer, loss='sparse_categorical_crossentropy', metrics=['accuracy'])"
      ],
      "metadata": {
        "id": "Vt2ocIOu7j8d"
      },
      "execution_count": 6,
      "outputs": []
    },
    {
      "cell_type": "code",
      "source": [
        "model.summary()"
      ],
      "metadata": {
        "colab": {
          "base_uri": "https://localhost:8080/"
        },
        "id": "pfkDiIpp7pik",
        "outputId": "18854230-56f3-4753-d0f6-54389c73b2e1"
      },
      "execution_count": 7,
      "outputs": [
        {
          "output_type": "stream",
          "name": "stdout",
          "text": [
            "Model: \"model\"\n",
            "_________________________________________________________________\n",
            " Layer (type)                Output Shape              Param #   \n",
            "=================================================================\n",
            " input_1 (InputLayer)        [(None, 28, 28, 1)]       0         \n",
            "                                                                 \n",
            " C1 (Conv2D)                 (None, 26, 26, 16)        160       \n",
            "                                                                 \n",
            " C2 (Conv2D)                 (None, 12, 12, 32)        4640      \n",
            "                                                                 \n",
            " C3 (Conv2D)                 (None, 5, 5, 64)          18496     \n",
            "                                                                 \n",
            " flatten (Flatten)           (None, 1600)              0         \n",
            "                                                                 \n",
            " l4 (Dense)                  (None, 32)                51232     \n",
            "                                                                 \n",
            " l5 (Dense)                  (None, 10)                330       \n",
            "                                                                 \n",
            "=================================================================\n",
            "Total params: 74,858\n",
            "Trainable params: 74,858\n",
            "Non-trainable params: 0\n",
            "_________________________________________________________________\n"
          ]
        }
      ]
    },
    {
      "cell_type": "code",
      "source": [
        "hist = model.fit(x=x_train, y=y_train,\n",
        "                 epochs=10, batch_size=64,\n",
        "                 validation_data=(x_test, y_test), \n",
        "                 )"
      ],
      "metadata": {
        "colab": {
          "base_uri": "https://localhost:8080/"
        },
        "id": "GJ1CA77z7bxx",
        "outputId": "ff4a8238-8ebb-4216-9cb5-acfb17f24d79"
      },
      "execution_count": 8,
      "outputs": [
        {
          "output_type": "stream",
          "name": "stdout",
          "text": [
            "Epoch 1/10\n",
            "938/938 [==============================] - 14s 5ms/step - loss: 0.1395 - accuracy: 0.9571 - val_loss: 0.0659 - val_accuracy: 0.9791\n",
            "Epoch 2/10\n",
            "938/938 [==============================] - 5s 5ms/step - loss: 0.0550 - accuracy: 0.9833 - val_loss: 0.0610 - val_accuracy: 0.9794\n",
            "Epoch 3/10\n",
            "938/938 [==============================] - 5s 5ms/step - loss: 0.0452 - accuracy: 0.9862 - val_loss: 0.0572 - val_accuracy: 0.9824\n",
            "Epoch 4/10\n",
            "938/938 [==============================] - 5s 5ms/step - loss: 0.0369 - accuracy: 0.9888 - val_loss: 0.0564 - val_accuracy: 0.9826\n",
            "Epoch 5/10\n",
            "938/938 [==============================] - 5s 5ms/step - loss: 0.0330 - accuracy: 0.9895 - val_loss: 0.0593 - val_accuracy: 0.9840\n",
            "Epoch 6/10\n",
            "938/938 [==============================] - 5s 5ms/step - loss: 0.0289 - accuracy: 0.9908 - val_loss: 0.0500 - val_accuracy: 0.9859\n",
            "Epoch 7/10\n",
            "938/938 [==============================] - 5s 5ms/step - loss: 0.0263 - accuracy: 0.9918 - val_loss: 0.0666 - val_accuracy: 0.9847\n",
            "Epoch 8/10\n",
            "938/938 [==============================] - 5s 5ms/step - loss: 0.0248 - accuracy: 0.9923 - val_loss: 0.0528 - val_accuracy: 0.9872\n",
            "Epoch 9/10\n",
            "938/938 [==============================] - 5s 5ms/step - loss: 0.0267 - accuracy: 0.9922 - val_loss: 0.0901 - val_accuracy: 0.9795\n",
            "Epoch 10/10\n",
            "938/938 [==============================] - 5s 5ms/step - loss: 0.0246 - accuracy: 0.9926 - val_loss: 0.0598 - val_accuracy: 0.9849\n"
          ]
        }
      ]
    },
    {
      "cell_type": "code",
      "source": [
        "fig, axs = plt.subplots(1, 2, figsize=(10,5))\n",
        "axs[0].plot(hist.epoch, hist.history['loss'])\n",
        "axs[0].plot(hist.epoch, hist.history['val_loss'])\n",
        "axs[0].legend(('training loss', 'validation loss'), loc='upper right')\n",
        "axs[1].plot(hist.epoch, hist.history['accuracy'])\n",
        "axs[1].plot(hist.epoch, hist.history['val_accuracy'])\n",
        "\n",
        "axs[1].legend(('training accuracy', 'validation accuracy'), loc='lower right')\n",
        "plt.show()"
      ],
      "metadata": {
        "colab": {
          "base_uri": "https://localhost:8080/",
          "height": 320
        },
        "id": "-8StwLb_7yJF",
        "outputId": "54bc585d-14b5-4638-dd7a-d46d28cd2bdb"
      },
      "execution_count": 10,
      "outputs": [
        {
          "output_type": "display_data",
          "data": {
            "image/png": "[encoded data removed]",
            "text/plain": [
              "<Figure size 720x360 with 2 Axes>"
            ]
          },
          "metadata": {
            "needs_background": "light"
          }
        }
      ]
    },
    {
      "cell_type": "markdown",
      "source": [
        "# Simple CNN, with global AP"
      ],
      "metadata": {
        "id": "N3yv7lSBrnOl"
      }
    },
    {
      "cell_type": "code",
      "source": [
        "x = tf.keras.layers.Input(shape=(28, 28, 1))\n",
        "\n",
        "l1 = tf.keras.layers.Conv2D(16, 3, name = 'C1', kernel_initializer='he_uniform', activation='relu')(x)\n",
        "l2 = tf.keras.layers.Conv2D(32, 3, strides=2, name = 'C2', kernel_initializer='he_uniform', activation='relu')(l1)\n",
        "l3 = tf.keras.layers.Conv2D(64, 3, strides=2, name = 'C3', kernel_initializer='he_uniform', activation='relu')(l2)\n"
      ],
      "metadata": {
        "id": "f9MxP9GVrnOl"
      },
      "execution_count": 31,
      "outputs": []
    },
    {
      "cell_type": "code",
      "source": [
        "l3_pooled = tf.keras.layers.GlobalAveragePooling2D()(l3)"
      ],
      "metadata": {
        "id": "imD3T5YiruLc"
      },
      "execution_count": 32,
      "outputs": []
    },
    {
      "cell_type": "code",
      "source": [
        "l3_pooled"
      ],
      "metadata": {
        "colab": {
          "base_uri": "https://localhost:8080/"
        },
        "id": "kNRQArY9uswd",
        "outputId": "c0da5ca8-0f71-47fd-aa75-9fe38ba00c49"
      },
      "execution_count": 33,
      "outputs": [
        {
          "output_type": "execute_result",
          "data": {
            "text/plain": [
              "<KerasTensor: shape=(None, 64) dtype=float32 (created by layer 'global_average_pooling2d_2')>"
            ]
          },
          "metadata": {},
          "execution_count": 33
        }
      ]
    },
    {
      "cell_type": "code",
      "source": [
        "l4 = tf.keras.layers.Dense(units=32, name='l4', activation='relu')(l3_pooled)\n",
        "l5 = tf.keras.layers.Dense(units=10, name='l5', activation='softmax')(l4)"
      ],
      "metadata": {
        "id": "FnxA-RhrsL8J"
      },
      "execution_count": 34,
      "outputs": []
    },
    {
      "cell_type": "code",
      "source": [
        "model_ap = tf.keras.Model(x, l5)"
      ],
      "metadata": {
        "id": "cAYNAbQfrnOm"
      },
      "execution_count": 35,
      "outputs": []
    },
    {
      "cell_type": "code",
      "source": [
        "optimizer = tf.keras.optimizers.Adam(learning_rate=0.005)\n",
        "model_ap.compile(optimizer=optimizer, loss='sparse_categorical_crossentropy', metrics=['accuracy'])"
      ],
      "metadata": {
        "id": "i-j7g1Z2rnOm"
      },
      "execution_count": 36,
      "outputs": []
    },
    {
      "cell_type": "code",
      "source": [
        "model_ap.summary()"
      ],
      "metadata": {
        "colab": {
          "base_uri": "https://localhost:8080/"
        },
        "outputId": "15fd1dba-b8eb-4613-f588-f8e6a13e1a68",
        "id": "h4FGwt3krnOm"
      },
      "execution_count": 37,
      "outputs": [
        {
          "output_type": "stream",
          "name": "stdout",
          "text": [
            "Model: \"model_4\"\n",
            "_________________________________________________________________\n",
            " Layer (type)                Output Shape              Param #   \n",
            "=================================================================\n",
            " input_4 (InputLayer)        [(None, 28, 28, 1)]       0         \n",
            "                                                                 \n",
            " C1 (Conv2D)                 (None, 26, 26, 16)        160       \n",
            "                                                                 \n",
            " C2 (Conv2D)                 (None, 12, 12, 32)        4640      \n",
            "                                                                 \n",
            " C3 (Conv2D)                 (None, 5, 5, 64)          18496     \n",
            "                                                                 \n",
            " global_average_pooling2d_2   (None, 64)               0         \n",
            " (GlobalAveragePooling2D)                                        \n",
            "                                                                 \n",
            " l4 (Dense)                  (None, 32)                2080      \n",
            "                                                                 \n",
            " l5 (Dense)                  (None, 10)                330       \n",
            "                                                                 \n",
            "=================================================================\n",
            "Total params: 25,706\n",
            "Trainable params: 25,706\n",
            "Non-trainable params: 0\n",
            "_________________________________________________________________\n"
          ]
        }
      ]
    },
    {
      "cell_type": "code",
      "source": [
        "hist = model_ap.fit(x=x_train, y=y_train,\n",
        "                 epochs=30, batch_size=64,\n",
        "                 validation_data=(x_test, y_test), \n",
        "                 )"
      ],
      "metadata": {
        "colab": {
          "base_uri": "https://localhost:8080/"
        },
        "outputId": "38c78ae0-7a6d-43ad-f987-6b25a3ba11ba",
        "id": "-9PPzr6nrnOm"
      },
      "execution_count": 38,
      "outputs": [
        {
          "output_type": "stream",
          "name": "stdout",
          "text": [
            "Epoch 1/30\n",
            "938/938 [==============================] - 6s 6ms/step - loss: 0.5691 - accuracy: 0.8160 - val_loss: 0.2266 - val_accuracy: 0.9367\n",
            "Epoch 2/30\n",
            "938/938 [==============================] - 5s 5ms/step - loss: 0.1926 - accuracy: 0.9420 - val_loss: 0.1765 - val_accuracy: 0.9502\n",
            "Epoch 3/30\n",
            "938/938 [==============================] - 5s 5ms/step - loss: 0.1397 - accuracy: 0.9580 - val_loss: 0.1103 - val_accuracy: 0.9659\n",
            "Epoch 4/30\n",
            "938/938 [==============================] - 5s 5ms/step - loss: 0.1142 - accuracy: 0.9652 - val_loss: 0.1077 - val_accuracy: 0.9672\n",
            "Epoch 5/30\n",
            "938/938 [==============================] - 5s 5ms/step - loss: 0.0980 - accuracy: 0.9691 - val_loss: 0.0915 - val_accuracy: 0.9734\n",
            "Epoch 6/30\n",
            "938/938 [==============================] - 5s 5ms/step - loss: 0.0862 - accuracy: 0.9736 - val_loss: 0.1016 - val_accuracy: 0.9661\n",
            "Epoch 7/30\n",
            "938/938 [==============================] - 5s 5ms/step - loss: 0.0750 - accuracy: 0.9768 - val_loss: 0.1158 - val_accuracy: 0.9637\n",
            "Epoch 8/30\n",
            "938/938 [==============================] - 5s 6ms/step - loss: 0.0702 - accuracy: 0.9779 - val_loss: 0.0789 - val_accuracy: 0.9776\n",
            "Epoch 9/30\n",
            "938/938 [==============================] - 5s 5ms/step - loss: 0.0610 - accuracy: 0.9806 - val_loss: 0.0768 - val_accuracy: 0.9767\n",
            "Epoch 10/30\n",
            "938/938 [==============================] - 5s 5ms/step - loss: 0.0533 - accuracy: 0.9829 - val_loss: 0.0872 - val_accuracy: 0.9752\n",
            "Epoch 11/30\n",
            "938/938 [==============================] - 5s 5ms/step - loss: 0.0494 - accuracy: 0.9839 - val_loss: 0.0797 - val_accuracy: 0.9757\n",
            "Epoch 12/30\n",
            "938/938 [==============================] - 5s 5ms/step - loss: 0.0471 - accuracy: 0.9853 - val_loss: 0.0845 - val_accuracy: 0.9752\n",
            "Epoch 13/30\n",
            "938/938 [==============================] - 5s 5ms/step - loss: 0.0437 - accuracy: 0.9859 - val_loss: 0.0957 - val_accuracy: 0.9747\n",
            "Epoch 14/30\n",
            "938/938 [==============================] - 5s 5ms/step - loss: 0.0401 - accuracy: 0.9867 - val_loss: 0.0943 - val_accuracy: 0.9740\n",
            "Epoch 15/30\n",
            "938/938 [==============================] - 5s 5ms/step - loss: 0.0345 - accuracy: 0.9889 - val_loss: 0.0869 - val_accuracy: 0.9764\n",
            "Epoch 16/30\n",
            "938/938 [==============================] - 5s 5ms/step - loss: 0.0349 - accuracy: 0.9885 - val_loss: 0.0821 - val_accuracy: 0.9775\n",
            "Epoch 17/30\n",
            "938/938 [==============================] - 5s 5ms/step - loss: 0.0353 - accuracy: 0.9883 - val_loss: 0.0738 - val_accuracy: 0.9799\n",
            "Epoch 18/30\n",
            "938/938 [==============================] - 5s 5ms/step - loss: 0.0298 - accuracy: 0.9897 - val_loss: 0.0774 - val_accuracy: 0.9813\n",
            "Epoch 19/30\n",
            "938/938 [==============================] - 5s 5ms/step - loss: 0.0270 - accuracy: 0.9911 - val_loss: 0.0985 - val_accuracy: 0.9754\n",
            "Epoch 20/30\n",
            "938/938 [==============================] - 5s 5ms/step - loss: 0.0260 - accuracy: 0.9914 - val_loss: 0.0863 - val_accuracy: 0.9795\n",
            "Epoch 21/30\n",
            "938/938 [==============================] - 5s 5ms/step - loss: 0.0254 - accuracy: 0.9918 - val_loss: 0.0915 - val_accuracy: 0.9778\n",
            "Epoch 22/30\n",
            "938/938 [==============================] - 5s 5ms/step - loss: 0.0246 - accuracy: 0.9920 - val_loss: 0.0936 - val_accuracy: 0.9794\n",
            "Epoch 23/30\n",
            "938/938 [==============================] - 5s 6ms/step - loss: 0.0239 - accuracy: 0.9921 - val_loss: 0.0925 - val_accuracy: 0.9789\n",
            "Epoch 24/30\n",
            "938/938 [==============================] - 5s 5ms/step - loss: 0.0224 - accuracy: 0.9926 - val_loss: 0.1081 - val_accuracy: 0.9778\n",
            "Epoch 25/30\n",
            "938/938 [==============================] - 5s 5ms/step - loss: 0.0243 - accuracy: 0.9922 - val_loss: 0.1107 - val_accuracy: 0.9790\n",
            "Epoch 26/30\n",
            "938/938 [==============================] - 5s 5ms/step - loss: 0.0228 - accuracy: 0.9926 - val_loss: 0.1445 - val_accuracy: 0.9721\n",
            "Epoch 27/30\n",
            "938/938 [==============================] - 5s 5ms/step - loss: 0.0214 - accuracy: 0.9935 - val_loss: 0.1036 - val_accuracy: 0.9782\n",
            "Epoch 28/30\n",
            "938/938 [==============================] - 5s 5ms/step - loss: 0.0210 - accuracy: 0.9932 - val_loss: 0.1498 - val_accuracy: 0.9708\n",
            "Epoch 29/30\n",
            "938/938 [==============================] - 5s 5ms/step - loss: 0.0183 - accuracy: 0.9943 - val_loss: 0.1139 - val_accuracy: 0.9758\n",
            "Epoch 30/30\n",
            "938/938 [==============================] - 5s 5ms/step - loss: 0.0197 - accuracy: 0.9935 - val_loss: 0.0975 - val_accuracy: 0.9797\n"
          ]
        }
      ]
    },
    {
      "cell_type": "code",
      "source": [
        "fig, axs = plt.subplots(1, 2, figsize=(10,5))\n",
        "axs[0].plot(hist.epoch, hist.history['loss'])\n",
        "axs[0].plot(hist.epoch, hist.history['val_loss'])\n",
        "axs[0].legend(('training loss', 'validation loss'), loc='upper right')\n",
        "axs[1].plot(hist.epoch, hist.history['accuracy'])\n",
        "axs[1].plot(hist.epoch, hist.history['val_accuracy'])\n",
        "\n",
        "axs[1].legend(('training accuracy', 'validation accuracy'), loc='lower right')\n",
        "plt.show()"
      ],
      "metadata": {
        "colab": {
          "base_uri": "https://localhost:8080/",
          "height": 320
        },
        "outputId": "5335d5d6-1262-4310-9bb8-01dc041b37d5",
        "id": "AVdv1uyHrnOm"
      },
      "execution_count": 39,
      "outputs": [
        {
          "output_type": "display_data",
          "data": {
            "image/png": "[encoded data removed]",
            "text/plain": [
              "<Figure size 720x360 with 2 Axes>"
            ]
          },
          "metadata": {
            "needs_background": "light"
          }
        }
      ]
    }
  ]
}